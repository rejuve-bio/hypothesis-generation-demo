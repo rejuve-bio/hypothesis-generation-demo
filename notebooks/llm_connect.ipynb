{
 "cells": [
  {
   "cell_type": "code",
   "source": [
    "import os\n",
    "import logging\n",
    "import sys\n",
    "import pandas as pd\n",
    "logging.basicConfig(stream=sys.stdout, level=logging.INFO)\n",
    "logging.getLogger().addHandler(logging.StreamHandler(stream=sys.stdout))\n",
    "\n",
    "from llama_index.core import VectorStoreIndex\n",
    "from llama_index.core import PromptTemplate\n",
    "from IPython.display import Markdown, display\n",
    "from llama_index.llms.ollama import Ollama"
   ],
   "metadata": {
    "collapsed": false,
    "ExecuteTime": {
     "end_time": "2024-06-05T11:31:02.825790Z",
     "start_time": "2024-06-05T11:30:59.957764Z"
    }
   },
   "id": "331e0168b3f0e1d6",
   "outputs": [],
   "execution_count": 1
  },
  {
   "metadata": {},
   "cell_type": "markdown",
   "source": "### Local Embeddings",
   "id": "6ba68c1d63ea292e"
  },
  {
   "metadata": {
    "ExecuteTime": {
     "end_time": "2024-06-05T11:31:08.677442Z",
     "start_time": "2024-06-05T11:31:04.064986Z"
    }
   },
   "cell_type": "code",
   "source": [
    "from llama_index.embeddings.huggingface import HuggingFaceEmbedding\n",
    "from llama_index.core import Settings\n",
    "Settings.embed_model = HuggingFaceEmbedding(model_name=\"w601sxs/b1ade-embed-kd\")"
   ],
   "id": "d66bafe1ac5afc6a",
   "outputs": [
    {
     "name": "stdout",
     "output_type": "stream",
     "text": [
      "INFO:sentence_transformers.SentenceTransformer:Load pretrained SentenceTransformer: w601sxs/b1ade-embed-kd\n",
      "Load pretrained SentenceTransformer: w601sxs/b1ade-embed-kd\n",
      "WARNING:sentence_transformers.SentenceTransformer:No sentence-transformers model found with name w601sxs/b1ade-embed-kd. Creating a new one with MEAN pooling.\n",
      "No sentence-transformers model found with name w601sxs/b1ade-embed-kd. Creating a new one with MEAN pooling.\n"
     ]
    },
    {
     "name": "stderr",
     "output_type": "stream",
     "text": [
      "/home/abdu/miniconda3/lib/python3.10/site-packages/huggingface_hub/file_download.py:1132: FutureWarning: `resume_download` is deprecated and will be removed in version 1.0.0. Downloads always resume when possible. If you want to force a new download, use `force_download=True`.\n",
      "  warnings.warn(\n"
     ]
    },
    {
     "name": "stdout",
     "output_type": "stream",
     "text": [
      "INFO:sentence_transformers.SentenceTransformer:2 prompts are loaded, with the keys: ['query', 'text']\n",
      "2 prompts are loaded, with the keys: ['query', 'text']\n"
     ]
    }
   ],
   "execution_count": 2
  },
  {
   "metadata": {
    "ExecuteTime": {
     "end_time": "2024-06-05T11:43:46.910597Z",
     "start_time": "2024-06-05T11:43:46.641141Z"
    }
   },
   "cell_type": "code",
   "source": [
    "from llama_index.llms.ollama import Ollama\n",
    "\n",
    "ollama = Ollama(model=\"llama3\", request_timeout=120.0, \n",
    "             temperature=0.5)\n",
    "\n",
    "response = ollama.complete(\"What is the capital of France?\")\n",
    "print(response)"
   ],
   "id": "f4a24b6e3f5a00e9",
   "outputs": [
    {
     "name": "stdout",
     "output_type": "stream",
     "text": [
      "INFO:httpx:HTTP Request: POST http://localhost:11434/api/generate \"HTTP/1.1 200 OK\"\n",
      "HTTP Request: POST http://localhost:11434/api/generate \"HTTP/1.1 200 OK\"\n",
      "The capital of France is Paris.\n"
     ]
    }
   ],
   "execution_count": 42
  },
  {
   "metadata": {
    "ExecuteTime": {
     "end_time": "2024-06-05T11:38:44.673450Z",
     "start_time": "2024-06-05T11:38:43.213194Z"
    }
   },
   "cell_type": "code",
   "source": [
    "# import openai\n",
    "# import os\n",
    "# from llama_index.llms.openai import OpenAI\n",
    "# \n",
    "# openai.api_key = os.environ[\"OPENAI_API_KEY\"]\n",
    "# gpt_llm = OpenAI(model=\"gpt-4\")\n",
    "# response = gpt_llm.complete(\"What is the capital of France?\")\n",
    "# print(response)"
   ],
   "id": "18a5dc17c47c2057",
   "outputs": [
    {
     "name": "stdout",
     "output_type": "stream",
     "text": [
      "INFO:httpx:HTTP Request: POST https://api.openai.com/v1/chat/completions \"HTTP/1.1 200 OK\"\n",
      "HTTP Request: POST https://api.openai.com/v1/chat/completions \"HTTP/1.1 200 OK\"\n",
      "The capital of France is Paris.\n"
     ]
    }
   ],
   "execution_count": 28
  },
  {
   "cell_type": "markdown",
   "source": [
    "### Load Data\n",
    "The Llama paper"
   ],
   "metadata": {
    "collapsed": false
   },
   "id": "aa2e800017b591"
  },
  {
   "cell_type": "code",
   "source": "!wget --user-agent \"Mozilla\" \"https://arxiv.org/pdf/2307.09288.pdf\" -O \"../data/llama2.pdf\"",
   "metadata": {
    "collapsed": false,
    "ExecuteTime": {
     "end_time": "2024-05-27T13:25:17.324560Z",
     "start_time": "2024-05-27T13:25:14.609787Z"
    }
   },
   "id": "4064a808611ed529",
   "outputs": [
    {
     "name": "stdout",
     "output_type": "stream",
     "text": [
      "--2024-05-27 06:25:14--  https://arxiv.org/pdf/2307.09288.pdf\r\n",
      "Resolving arxiv.org (arxiv.org)... 151.101.67.42, 151.101.195.42, 151.101.3.42, ...\r\n",
      "Connecting to arxiv.org (arxiv.org)|151.101.67.42|:443... connected.\r\n",
      "HTTP request sent, awaiting response... 301 Moved Permanently\r\n",
      "Location: http://arxiv.org/pdf/2307.09288 [following]\r\n",
      "--2024-05-27 06:25:14--  http://arxiv.org/pdf/2307.09288\r\n",
      "Connecting to arxiv.org (arxiv.org)|151.101.67.42|:80... connected.\r\n",
      "HTTP request sent, awaiting response... 200 OK\r\n",
      "Length: 13661300 (13M) [application/pdf]\r\n",
      "Saving to: ‘../data/llama2.pdf’\r\n",
      "\r\n",
      "../data/llama2.pdf  100%[===================>]  13.03M  5.83MB/s    in 2.2s    \r\n",
      "\r\n",
      "2024-05-27 06:25:17 (5.83 MB/s) - ‘../data/llama2.pdf’ saved [13661300/13661300]\r\n",
      "\r\n"
     ]
    }
   ],
   "execution_count": 3
  },
  {
   "metadata": {
    "ExecuteTime": {
     "end_time": "2024-05-27T15:45:27.632152Z",
     "start_time": "2024-05-27T15:45:24.967307Z"
    }
   },
   "cell_type": "code",
   "source": [
    "from pathlib import Path\n",
    "from llama_index.readers.file import PyMuPDFReader\n",
    "from llama_index.core import VectorStoreIndex\n",
    "\n",
    "loader = PyMuPDFReader()\n",
    "documents = loader.load(file_path=\"../data/llama2.pdf\")\n",
    "index = VectorStoreIndex.from_documents(documents)"
   ],
   "id": "6d96f009ecf88711",
   "outputs": [
    {
     "data": {
      "text/plain": [
       "Batches:   0%|          | 0/1 [00:00<?, ?it/s]"
      ],
      "application/vnd.jupyter.widget-view+json": {
       "version_major": 2,
       "version_minor": 0,
       "model_id": "c9c2d6c543874f369cdabe055473fc54"
      }
     },
     "metadata": {},
     "output_type": "display_data"
    },
    {
     "data": {
      "text/plain": [
       "Batches:   0%|          | 0/1 [00:00<?, ?it/s]"
      ],
      "application/vnd.jupyter.widget-view+json": {
       "version_major": 2,
       "version_minor": 0,
       "model_id": "304b4cc0e50545ae939c02050aa30998"
      }
     },
     "metadata": {},
     "output_type": "display_data"
    },
    {
     "data": {
      "text/plain": [
       "Batches:   0%|          | 0/1 [00:00<?, ?it/s]"
      ],
      "application/vnd.jupyter.widget-view+json": {
       "version_major": 2,
       "version_minor": 0,
       "model_id": "244fe3a7fb614832a96f06dc2c57b79c"
      }
     },
     "metadata": {},
     "output_type": "display_data"
    },
    {
     "data": {
      "text/plain": [
       "Batches:   0%|          | 0/1 [00:00<?, ?it/s]"
      ],
      "application/vnd.jupyter.widget-view+json": {
       "version_major": 2,
       "version_minor": 0,
       "model_id": "7899df673a2349e5be4eabb7dee886c6"
      }
     },
     "metadata": {},
     "output_type": "display_data"
    },
    {
     "data": {
      "text/plain": [
       "Batches:   0%|          | 0/1 [00:00<?, ?it/s]"
      ],
      "application/vnd.jupyter.widget-view+json": {
       "version_major": 2,
       "version_minor": 0,
       "model_id": "e6f8441f160a41c49e792585db798a81"
      }
     },
     "metadata": {},
     "output_type": "display_data"
    },
    {
     "data": {
      "text/plain": [
       "Batches:   0%|          | 0/1 [00:00<?, ?it/s]"
      ],
      "application/vnd.jupyter.widget-view+json": {
       "version_major": 2,
       "version_minor": 0,
       "model_id": "4f414f0132244f348af3ed9b11525951"
      }
     },
     "metadata": {},
     "output_type": "display_data"
    },
    {
     "data": {
      "text/plain": [
       "Batches:   0%|          | 0/1 [00:00<?, ?it/s]"
      ],
      "application/vnd.jupyter.widget-view+json": {
       "version_major": 2,
       "version_minor": 0,
       "model_id": "68f615825dee4b698ca54a35952c5e76"
      }
     },
     "metadata": {},
     "output_type": "display_data"
    },
    {
     "data": {
      "text/plain": [
       "Batches:   0%|          | 0/1 [00:00<?, ?it/s]"
      ],
      "application/vnd.jupyter.widget-view+json": {
       "version_major": 2,
       "version_minor": 0,
       "model_id": "3356427d62714a7e8118c14fc7b1ce46"
      }
     },
     "metadata": {},
     "output_type": "display_data"
    },
    {
     "data": {
      "text/plain": [
       "Batches:   0%|          | 0/1 [00:00<?, ?it/s]"
      ],
      "application/vnd.jupyter.widget-view+json": {
       "version_major": 2,
       "version_minor": 0,
       "model_id": "f7e3667813ca4ab0ba2e47fea2008c00"
      }
     },
     "metadata": {},
     "output_type": "display_data"
    },
    {
     "data": {
      "text/plain": [
       "Batches:   0%|          | 0/1 [00:00<?, ?it/s]"
      ],
      "application/vnd.jupyter.widget-view+json": {
       "version_major": 2,
       "version_minor": 0,
       "model_id": "6e03a1be75854133b9f2fb8eb33ecd8a"
      }
     },
     "metadata": {},
     "output_type": "display_data"
    },
    {
     "data": {
      "text/plain": [
       "Batches:   0%|          | 0/1 [00:00<?, ?it/s]"
      ],
      "application/vnd.jupyter.widget-view+json": {
       "version_major": 2,
       "version_minor": 0,
       "model_id": "ac93e34ba4404b27b681bcd48b16bafb"
      }
     },
     "metadata": {},
     "output_type": "display_data"
    }
   ],
   "execution_count": 9
  },
  {
   "metadata": {
    "ExecuteTime": {
     "end_time": "2024-05-27T15:52:26.687685Z",
     "start_time": "2024-05-27T15:52:26.681348Z"
    }
   },
   "cell_type": "code",
   "source": [
    "query_str = \"What are the potential risks associated with the use of Llama 2 as mentioned in the context?\"\n",
    "query_engine = index.as_query_engine(similarity_top_k=2, llm=llm)\n",
    "vector_retriever = index.as_retriever(similary_top_k=2)"
   ],
   "id": "47b4ac3ada703b4f",
   "outputs": [],
   "execution_count": 23
  },
  {
   "metadata": {
    "ExecuteTime": {
     "end_time": "2024-05-27T15:52:29.707726Z",
     "start_time": "2024-05-27T15:52:27.842253Z"
    }
   },
   "cell_type": "code",
   "source": [
    "response = query_engine.query(query_str)\n",
    "print(str(response))"
   ],
   "id": "fa513c5d10d86cd4",
   "outputs": [
    {
     "data": {
      "text/plain": [
       "Batches:   0%|          | 0/1 [00:00<?, ?it/s]"
      ],
      "application/vnd.jupyter.widget-view+json": {
       "version_major": 2,
       "version_minor": 0,
       "model_id": "3115a84cd97648fd8a18fe2720dde8c8"
      }
     },
     "metadata": {},
     "output_type": "display_data"
    },
    {
     "name": "stdout",
     "output_type": "stream",
     "text": [
      "INFO:httpx:HTTP Request: POST http://localhost:11434/api/chat \"HTTP/1.1 200 OK\"\n",
      "HTTP Request: POST http://localhost:11434/api/chat \"HTTP/1.1 200 OK\"\n",
      "According to the provided context, the potential risks associated with the use of Llama 2 include generating misinformation, retrieving information about topics like bioterrorism or cybercrime, and the model being used for nefarious purposes. Additionally, the paper mentions that the open release of LLMs, including Llama 2, carries potential risks with use.\n"
     ]
    }
   ],
   "execution_count": 24
  },
  {
   "metadata": {
    "ExecuteTime": {
     "end_time": "2024-06-10T15:31:33.225285Z",
     "start_time": "2024-06-10T15:31:33.217394Z"
    }
   },
   "cell_type": "code",
   "source": [
    "# define prompt viewing function\n",
    "def display_prompt_dict(prompts_dict):\n",
    "    for k, p in prompts_dict.items():\n",
    "        text_md = f\"**Prompt Key**: {k}<br>\" f\"**Text:** <br>\"\n",
    "        display(Markdown(text_md))\n",
    "        print(p.get_template())\n",
    "        display(Markdown(\"<br><br>\"))"
   ],
   "id": "25f00f4b99e50d77",
   "outputs": [],
   "execution_count": 48
  },
  {
   "metadata": {
    "ExecuteTime": {
     "end_time": "2024-05-28T12:29:40.563285Z",
     "start_time": "2024-05-28T12:29:31.664406Z"
    }
   },
   "cell_type": "code",
   "source": [
    "response = query_engine.query(query_str)\n",
    "print(str(response))"
   ],
   "id": "893192d1af0f784d",
   "outputs": [
    {
     "data": {
      "text/plain": [
       "Batches:   0%|          | 0/1 [00:00<?, ?it/s]"
      ],
      "application/vnd.jupyter.widget-view+json": {
       "version_major": 2,
       "version_minor": 0,
       "model_id": "29a8402dfe104453bcbedaeb53e1f61c"
      }
     },
     "metadata": {},
     "output_type": "display_data"
    },
    {
     "name": "stdout",
     "output_type": "stream",
     "text": [
      "INFO:httpx:HTTP Request: POST http://localhost:11434/api/chat \"HTTP/1.1 200 OK\"\n",
      "HTTP Request: POST http://localhost:11434/api/chat \"HTTP/1.1 200 OK\"\n",
      "Based on the provided context, I don't know the specific potential risks associated with the use of Llama 2. However, it is mentioned that not everyone who uses AI models has good intentions, and conversational AI agents like Llama 2 could potentially be used for nefarious purposes such as generating misinformation or retrieving information about topics like bioterrorism or cybercrime.\n"
     ]
    }
   ],
   "execution_count": 36
  },
  {
   "metadata": {
    "ExecuteTime": {
     "end_time": "2024-06-05T11:33:52.587609Z",
     "start_time": "2024-06-05T11:33:52.561329Z"
    }
   },
   "cell_type": "code",
   "source": [
    "enrichr_csv_path = \"/mnt/hdd_2/abdu/gtex/brown_preadipocytes_irx3_enrichr.csv\"\n",
    "enrichr_df = pd.read_csv(enrichr_csv_path)\n",
    "enrichr_df.head()"
   ],
   "id": "e4f061fe73abdaad",
   "outputs": [
    {
     "data": {
      "text/plain": [
       "           ID                                 Term  Adjusted P-value\n",
       "0  GO:0002181             Cytoplasmic Translation       3.401699e-69\n",
       "1  GO:0009059  Macromolecule Biosynthetic Process       2.501583e-60\n",
       "2  GO:0006412                         Translation       3.550623e-56\n",
       "3  GO:0043043        Peptide Biosynthetic Process       5.143090e-56\n",
       "4  GO:0010467                     Gene Expression       6.660641e-47"
      ],
      "text/html": [
       "<div>\n",
       "<style scoped>\n",
       "    .dataframe tbody tr th:only-of-type {\n",
       "        vertical-align: middle;\n",
       "    }\n",
       "\n",
       "    .dataframe tbody tr th {\n",
       "        vertical-align: top;\n",
       "    }\n",
       "\n",
       "    .dataframe thead th {\n",
       "        text-align: right;\n",
       "    }\n",
       "</style>\n",
       "<table border=\"1\" class=\"dataframe\">\n",
       "  <thead>\n",
       "    <tr style=\"text-align: right;\">\n",
       "      <th></th>\n",
       "      <th>ID</th>\n",
       "      <th>Term</th>\n",
       "      <th>Adjusted P-value</th>\n",
       "    </tr>\n",
       "  </thead>\n",
       "  <tbody>\n",
       "    <tr>\n",
       "      <th>0</th>\n",
       "      <td>GO:0002181</td>\n",
       "      <td>Cytoplasmic Translation</td>\n",
       "      <td>3.401699e-69</td>\n",
       "    </tr>\n",
       "    <tr>\n",
       "      <th>1</th>\n",
       "      <td>GO:0009059</td>\n",
       "      <td>Macromolecule Biosynthetic Process</td>\n",
       "      <td>2.501583e-60</td>\n",
       "    </tr>\n",
       "    <tr>\n",
       "      <th>2</th>\n",
       "      <td>GO:0006412</td>\n",
       "      <td>Translation</td>\n",
       "      <td>3.550623e-56</td>\n",
       "    </tr>\n",
       "    <tr>\n",
       "      <th>3</th>\n",
       "      <td>GO:0043043</td>\n",
       "      <td>Peptide Biosynthetic Process</td>\n",
       "      <td>5.143090e-56</td>\n",
       "    </tr>\n",
       "    <tr>\n",
       "      <th>4</th>\n",
       "      <td>GO:0010467</td>\n",
       "      <td>Gene Expression</td>\n",
       "      <td>6.660641e-47</td>\n",
       "    </tr>\n",
       "  </tbody>\n",
       "</table>\n",
       "</div>"
      ]
     },
     "execution_count": 11,
     "metadata": {},
     "output_type": "execute_result"
    }
   ],
   "execution_count": 11
  },
  {
   "metadata": {
    "ExecuteTime": {
     "end_time": "2024-06-04T11:17:39.587809Z",
     "start_time": "2024-06-04T11:17:39.133666Z"
    }
   },
   "cell_type": "code",
   "source": [
    "import pickle\n",
    "\n",
    "go_map = {}\n",
    "\n",
    "with open(f\"/mnt/hdd_2/abdu/llm_exp/go.obo\") as fp:\n",
    "    lines = fp.readlines()\n",
    "    print(f\"Len lines: {len(lines)}\")\n",
    "    k = 0\n",
    "    while k < len(lines): \n",
    "        line = lines[k]\n",
    "        if line.strip() == \"[Term]\":\n",
    "            go_id = (\":\".join(lines[k+1].strip().split(\":\")[1:])).strip()\n",
    "            go_name = lines[k+2].strip().split(\":\")[-1]\n",
    "            go_desc = lines[k+4].strip().split(\":\")[1].split(\"[\")[0].strip()\n",
    "            go_desc  = go_desc.replace('\"', '').replace(\"'\", \"\").strip()\n",
    "            go_map[go_id] = {\"name\": go_name, \"desc\": go_desc}\n",
    "        \n",
    "        k += 1\n",
    "        \n",
    "pickle.dump(go_map, open(\"/mnt/hdd_2/abdu/llm_exp/go_map.pkl\", \"wb\"))"
   ],
   "id": "48a2f07fd9684728",
   "outputs": [
    {
     "name": "stdout",
     "output_type": "stream",
     "text": [
      "Len lines: 618673\n"
     ]
    }
   ],
   "execution_count": 52
  },
  {
   "metadata": {
    "ExecuteTime": {
     "end_time": "2024-06-05T11:33:56.050528Z",
     "start_time": "2024-06-05T11:33:55.966178Z"
    }
   },
   "cell_type": "code",
   "source": [
    "import pickle\n",
    "go_map = pickle.load(open(\"/mnt/hdd_2/abdu/llm_exp/go_map.pkl\", \"rb\"))\n",
    "desc = []\n",
    "\n",
    "for _, row in enrichr_df.iterrows():\n",
    "    go_id = row[\"ID\"]\n",
    "    go_name = row[\"Term\"]\n",
    "    try:\n",
    "        go_desc = go_map[go_id][\"desc\"]\n",
    "        desc.append(go_desc)\n",
    "    except KeyError:\n",
    "        print(f\"Couldn't find term {go_id}, {go_name}\")\n",
    "        desc.append(\"NA\")\n",
    "\n",
    "enrichr_df[\"Desc\"] = desc\n",
    "enrichr_df.head()"
   ],
   "id": "3273f5b920a784a6",
   "outputs": [
    {
     "name": "stdout",
     "output_type": "stream",
     "text": [
      "Couldn't find term SSU-rRNA, 5.8S rRNA, LSU-rRNA, Maturation Of SSU-rRNA From Tricistronic rRNA Transcript \n"
     ]
    },
    {
     "data": {
      "text/plain": [
       "           ID                                 Term  Adjusted P-value  \\\n",
       "0  GO:0002181             Cytoplasmic Translation       3.401699e-69   \n",
       "1  GO:0009059  Macromolecule Biosynthetic Process       2.501583e-60   \n",
       "2  GO:0006412                         Translation       3.550623e-56   \n",
       "3  GO:0043043        Peptide Biosynthetic Process       5.143090e-56   \n",
       "4  GO:0010467                     Gene Expression       6.660641e-47   \n",
       "\n",
       "                                                Desc  \n",
       "0  The chemical reactions and pathways resulting ...  \n",
       "1                                                 GO  \n",
       "2                                                 GO  \n",
       "3  The chemical reactions and pathways resulting ...  \n",
       "4  The process in which a genes sequence is conve...  "
      ],
      "text/html": [
       "<div>\n",
       "<style scoped>\n",
       "    .dataframe tbody tr th:only-of-type {\n",
       "        vertical-align: middle;\n",
       "    }\n",
       "\n",
       "    .dataframe tbody tr th {\n",
       "        vertical-align: top;\n",
       "    }\n",
       "\n",
       "    .dataframe thead th {\n",
       "        text-align: right;\n",
       "    }\n",
       "</style>\n",
       "<table border=\"1\" class=\"dataframe\">\n",
       "  <thead>\n",
       "    <tr style=\"text-align: right;\">\n",
       "      <th></th>\n",
       "      <th>ID</th>\n",
       "      <th>Term</th>\n",
       "      <th>Adjusted P-value</th>\n",
       "      <th>Desc</th>\n",
       "    </tr>\n",
       "  </thead>\n",
       "  <tbody>\n",
       "    <tr>\n",
       "      <th>0</th>\n",
       "      <td>GO:0002181</td>\n",
       "      <td>Cytoplasmic Translation</td>\n",
       "      <td>3.401699e-69</td>\n",
       "      <td>The chemical reactions and pathways resulting ...</td>\n",
       "    </tr>\n",
       "    <tr>\n",
       "      <th>1</th>\n",
       "      <td>GO:0009059</td>\n",
       "      <td>Macromolecule Biosynthetic Process</td>\n",
       "      <td>2.501583e-60</td>\n",
       "      <td>GO</td>\n",
       "    </tr>\n",
       "    <tr>\n",
       "      <th>2</th>\n",
       "      <td>GO:0006412</td>\n",
       "      <td>Translation</td>\n",
       "      <td>3.550623e-56</td>\n",
       "      <td>GO</td>\n",
       "    </tr>\n",
       "    <tr>\n",
       "      <th>3</th>\n",
       "      <td>GO:0043043</td>\n",
       "      <td>Peptide Biosynthetic Process</td>\n",
       "      <td>5.143090e-56</td>\n",
       "      <td>The chemical reactions and pathways resulting ...</td>\n",
       "    </tr>\n",
       "    <tr>\n",
       "      <th>4</th>\n",
       "      <td>GO:0010467</td>\n",
       "      <td>Gene Expression</td>\n",
       "      <td>6.660641e-47</td>\n",
       "      <td>The process in which a genes sequence is conve...</td>\n",
       "    </tr>\n",
       "  </tbody>\n",
       "</table>\n",
       "</div>"
      ]
     },
     "execution_count": 12,
     "metadata": {},
     "output_type": "execute_result"
    }
   ],
   "execution_count": 12
  },
  {
   "metadata": {
    "ExecuteTime": {
     "end_time": "2024-06-05T11:34:00.467618Z",
     "start_time": "2024-06-05T11:34:00.438576Z"
    }
   },
   "cell_type": "code",
   "source": [
    "import tempfile\n",
    "tmp_file = tempfile.NamedTemporaryFile(\"w+\")\n",
    "df = enrichr_df.copy()\n",
    "df.drop(columns=[\"ID\", \"Adjusted P-value\"], inplace=True)\n",
    "df.to_csv(tmp_file, index=False)\n",
    "df.head()"
   ],
   "id": "9efd8441e53ae5dc",
   "outputs": [
    {
     "data": {
      "text/plain": [
       "                                  Term  \\\n",
       "0             Cytoplasmic Translation    \n",
       "1  Macromolecule Biosynthetic Process    \n",
       "2                         Translation    \n",
       "3        Peptide Biosynthetic Process    \n",
       "4                     Gene Expression    \n",
       "\n",
       "                                                Desc  \n",
       "0  The chemical reactions and pathways resulting ...  \n",
       "1                                                 GO  \n",
       "2                                                 GO  \n",
       "3  The chemical reactions and pathways resulting ...  \n",
       "4  The process in which a genes sequence is conve...  "
      ],
      "text/html": [
       "<div>\n",
       "<style scoped>\n",
       "    .dataframe tbody tr th:only-of-type {\n",
       "        vertical-align: middle;\n",
       "    }\n",
       "\n",
       "    .dataframe tbody tr th {\n",
       "        vertical-align: top;\n",
       "    }\n",
       "\n",
       "    .dataframe thead th {\n",
       "        text-align: right;\n",
       "    }\n",
       "</style>\n",
       "<table border=\"1\" class=\"dataframe\">\n",
       "  <thead>\n",
       "    <tr style=\"text-align: right;\">\n",
       "      <th></th>\n",
       "      <th>Term</th>\n",
       "      <th>Desc</th>\n",
       "    </tr>\n",
       "  </thead>\n",
       "  <tbody>\n",
       "    <tr>\n",
       "      <th>0</th>\n",
       "      <td>Cytoplasmic Translation</td>\n",
       "      <td>The chemical reactions and pathways resulting ...</td>\n",
       "    </tr>\n",
       "    <tr>\n",
       "      <th>1</th>\n",
       "      <td>Macromolecule Biosynthetic Process</td>\n",
       "      <td>GO</td>\n",
       "    </tr>\n",
       "    <tr>\n",
       "      <th>2</th>\n",
       "      <td>Translation</td>\n",
       "      <td>GO</td>\n",
       "    </tr>\n",
       "    <tr>\n",
       "      <th>3</th>\n",
       "      <td>Peptide Biosynthetic Process</td>\n",
       "      <td>The chemical reactions and pathways resulting ...</td>\n",
       "    </tr>\n",
       "    <tr>\n",
       "      <th>4</th>\n",
       "      <td>Gene Expression</td>\n",
       "      <td>The process in which a genes sequence is conve...</td>\n",
       "    </tr>\n",
       "  </tbody>\n",
       "</table>\n",
       "</div>"
      ]
     },
     "execution_count": 13,
     "metadata": {},
     "output_type": "execute_result"
    }
   ],
   "execution_count": 13
  },
  {
   "metadata": {},
   "cell_type": "code",
   "source": [
    "from llama_index.readers.file import CSVReader\n",
    "from pathlib import Path\n",
    "reader = CSVReader(concat_rows=False)\n",
    "docs = reader.load_data(file=Path(tmp_file.name))\n",
    "index = VectorStoreIndex.from_documents(docs)"
   ],
   "id": "30031b88ba5d7d08",
   "outputs": [],
   "execution_count": null
  },
  {
   "metadata": {
    "ExecuteTime": {
     "end_time": "2024-06-10T18:43:10.738259Z",
     "start_time": "2024-06-10T18:43:10.719188Z"
    }
   },
   "cell_type": "code",
   "source": [
    "from llama_index.core.program import LLMTextCompletionProgram\n",
    "from pydantic import BaseModel\n",
    "from typing import List\n",
    "\n",
    "class GoTerm(BaseModel):\n",
    "    name: str\n",
    "    reason: str\n",
    "    \n",
    "class GoTerms(BaseModel):\n",
    "    variant: str\n",
    "    phenotype: str\n",
    "    go_terms: List[GoTerm]\n",
    "    \n",
    "# define prompt viewing function\n",
    "def display_prompt_dict(prompts_dict):\n",
    "    for k, p in prompts_dict.items():\n",
    "        text_md = f\"**Prompt Key**: {k}<br>\" f\"**Text:** <br>\"\n",
    "        display(Markdown(text_md))\n",
    "        print(p.get_template())\n",
    "        display(Markdown(\"<br><br>\"))\n",
    "\n",
    "qa_prompt_tmpl_str = \"\"\"\\\n",
    "Context information is below.\n",
    "---------------------\n",
    "<s>[INST] <<SYS>>\n",
    "You are an AI assistant helping biologists understand the mechanism of action of genomic mutation and how it brings about a phenotype .You should explain each of your response as detailed as possible. Don't write introductions or conclusions.\n",
    "<</SYS>>\n",
    "---------------------\n",
    "Query: A biologist is studying the causal relationship between SNP {variant} and {phenotype}. Select 10 most relevant GO terms that are most likely to explain {phenotype}.Your response should be a valid json that includes two  fields 'Name' for name of the term and 'Reason' for the reason of your answer. Don't include introduction and conclusion remarks.\n",
    "Answer: \\\n",
    "\"\"\"\n",
    "\n",
    "# query_str = \"A biologist is studying the causal relationship between SNP rs1421085 and obesity. Select 10 most relevant GO terms that are most likely to explain obesity.Your response should be a valid json that includes two  fields 'Name' for name of the term and 'Reason' for the reason of your answer. Don't include introduction and conclusion remarks.\"\n",
    "\n",
    "qa_prompt_tmpl = PromptTemplate(\n",
    "    qa_prompt_tmpl_str\n",
    ")\n",
    "\n",
    "query_engine = index.as_query_engine(similarity_top_k=10, llm=ollama, \n",
    "                                     text_qa_template=qa_prompt_tmpl)\n",
    "\n",
    "program = LLMTextCompletionProgram.from_defaults(\n",
    "    output_cls=GoTerms,\n",
    "    prompt_template_str=qa_prompt_tmpl_str,\n",
    "    llm=ollama,\n",
    "    verbose=True\n",
    ")\n",
    "# vector_retriever = index.as_retriever(similary_top_k=10)\n",
    "# prompt = qa_prompt_tmpl.format(query_str=query_str)\n",
    "# query_engine.update_prompts(qa_prompt_tmpl)"
   ],
   "id": "dfa6e2b4e8fc7df2",
   "outputs": [],
   "execution_count": 58
  },
  {
   "metadata": {
    "ExecuteTime": {
     "end_time": "2024-06-10T18:43:24.950979Z",
     "start_time": "2024-06-10T18:43:11.703739Z"
    }
   },
   "cell_type": "code",
   "source": [
    "output = program(variant=\"rs1421085\", phenotype=\"obesity\")\n",
    "print(output)"
   ],
   "id": "cb196e04652bfe67",
   "outputs": [
    {
     "name": "stdout",
     "output_type": "stream",
     "text": [
      "INFO:httpx:HTTP Request: POST http://localhost:11434/api/chat \"HTTP/1.1 200 OK\"\n",
      "HTTP Request: POST http://localhost:11434/api/chat \"HTTP/1.1 200 OK\"\n"
     ]
    },
    {
     "ename": "ValidationError",
     "evalue": "1 validation error for GoTerms\n__root__\n  Extra data: line 4 column 4 (char 204) [type=value_error.jsondecode, input_value='{\\n    \"Name\": \"regulati...buting to obesity\"\\n  }', input_type=str]",
     "output_type": "error",
     "traceback": [
      "\u001B[0;31m---------------------------------------------------------------------------\u001B[0m",
      "\u001B[0;31mJSONDecodeError\u001B[0m                           Traceback (most recent call last)",
      "File \u001B[0;32m~/miniconda3/lib/python3.10/site-packages/pydantic/main.py:1143\u001B[0m, in \u001B[0;36mBaseModel.parse_raw\u001B[0;34m(cls, b, content_type, encoding, proto, allow_pickle)\u001B[0m\n\u001B[1;32m   1142\u001B[0m \u001B[38;5;28;01mtry\u001B[39;00m:\n\u001B[0;32m-> 1143\u001B[0m     obj \u001B[38;5;241m=\u001B[39m \u001B[43mparse\u001B[49m\u001B[38;5;241;43m.\u001B[39;49m\u001B[43mload_str_bytes\u001B[49m\u001B[43m(\u001B[49m\n\u001B[1;32m   1144\u001B[0m \u001B[43m        \u001B[49m\u001B[43mb\u001B[49m\u001B[43m,\u001B[49m\n\u001B[1;32m   1145\u001B[0m \u001B[43m        \u001B[49m\u001B[43mproto\u001B[49m\u001B[38;5;241;43m=\u001B[39;49m\u001B[43mproto\u001B[49m\u001B[43m,\u001B[49m\n\u001B[1;32m   1146\u001B[0m \u001B[43m        \u001B[49m\u001B[43mcontent_type\u001B[49m\u001B[38;5;241;43m=\u001B[39;49m\u001B[43mcontent_type\u001B[49m\u001B[43m,\u001B[49m\n\u001B[1;32m   1147\u001B[0m \u001B[43m        \u001B[49m\u001B[43mencoding\u001B[49m\u001B[38;5;241;43m=\u001B[39;49m\u001B[43mencoding\u001B[49m\u001B[43m,\u001B[49m\n\u001B[1;32m   1148\u001B[0m \u001B[43m        \u001B[49m\u001B[43mallow_pickle\u001B[49m\u001B[38;5;241;43m=\u001B[39;49m\u001B[43mallow_pickle\u001B[49m\u001B[43m,\u001B[49m\n\u001B[1;32m   1149\u001B[0m \u001B[43m    \u001B[49m\u001B[43m)\u001B[49m\n\u001B[1;32m   1150\u001B[0m \u001B[38;5;28;01mexcept\u001B[39;00m (\u001B[38;5;167;01mValueError\u001B[39;00m, \u001B[38;5;167;01mTypeError\u001B[39;00m) \u001B[38;5;28;01mas\u001B[39;00m exc:\n",
      "File \u001B[0;32m~/miniconda3/lib/python3.10/site-packages/pydantic/deprecated/parse.py:49\u001B[0m, in \u001B[0;36mload_str_bytes\u001B[0;34m(b, content_type, encoding, proto, allow_pickle, json_loads)\u001B[0m\n\u001B[1;32m     48\u001B[0m         b \u001B[38;5;241m=\u001B[39m b\u001B[38;5;241m.\u001B[39mdecode(encoding)\n\u001B[0;32m---> 49\u001B[0m     \u001B[38;5;28;01mreturn\u001B[39;00m \u001B[43mjson_loads\u001B[49m\u001B[43m(\u001B[49m\u001B[43mb\u001B[49m\u001B[43m)\u001B[49m  \u001B[38;5;66;03m# type: ignore\u001B[39;00m\n\u001B[1;32m     50\u001B[0m \u001B[38;5;28;01melif\u001B[39;00m proto \u001B[38;5;241m==\u001B[39m Protocol\u001B[38;5;241m.\u001B[39mpickle:\n",
      "File \u001B[0;32m~/miniconda3/lib/python3.10/json/__init__.py:346\u001B[0m, in \u001B[0;36mloads\u001B[0;34m(s, cls, object_hook, parse_float, parse_int, parse_constant, object_pairs_hook, **kw)\u001B[0m\n\u001B[1;32m    343\u001B[0m \u001B[38;5;28;01mif\u001B[39;00m (\u001B[38;5;28mcls\u001B[39m \u001B[38;5;129;01mis\u001B[39;00m \u001B[38;5;28;01mNone\u001B[39;00m \u001B[38;5;129;01mand\u001B[39;00m object_hook \u001B[38;5;129;01mis\u001B[39;00m \u001B[38;5;28;01mNone\u001B[39;00m \u001B[38;5;129;01mand\u001B[39;00m\n\u001B[1;32m    344\u001B[0m         parse_int \u001B[38;5;129;01mis\u001B[39;00m \u001B[38;5;28;01mNone\u001B[39;00m \u001B[38;5;129;01mand\u001B[39;00m parse_float \u001B[38;5;129;01mis\u001B[39;00m \u001B[38;5;28;01mNone\u001B[39;00m \u001B[38;5;129;01mand\u001B[39;00m\n\u001B[1;32m    345\u001B[0m         parse_constant \u001B[38;5;129;01mis\u001B[39;00m \u001B[38;5;28;01mNone\u001B[39;00m \u001B[38;5;129;01mand\u001B[39;00m object_pairs_hook \u001B[38;5;129;01mis\u001B[39;00m \u001B[38;5;28;01mNone\u001B[39;00m \u001B[38;5;129;01mand\u001B[39;00m \u001B[38;5;129;01mnot\u001B[39;00m kw):\n\u001B[0;32m--> 346\u001B[0m     \u001B[38;5;28;01mreturn\u001B[39;00m \u001B[43m_default_decoder\u001B[49m\u001B[38;5;241;43m.\u001B[39;49m\u001B[43mdecode\u001B[49m\u001B[43m(\u001B[49m\u001B[43ms\u001B[49m\u001B[43m)\u001B[49m\n\u001B[1;32m    347\u001B[0m \u001B[38;5;28;01mif\u001B[39;00m \u001B[38;5;28mcls\u001B[39m \u001B[38;5;129;01mis\u001B[39;00m \u001B[38;5;28;01mNone\u001B[39;00m:\n",
      "File \u001B[0;32m~/miniconda3/lib/python3.10/json/decoder.py:340\u001B[0m, in \u001B[0;36mJSONDecoder.decode\u001B[0;34m(self, s, _w)\u001B[0m\n\u001B[1;32m    339\u001B[0m \u001B[38;5;28;01mif\u001B[39;00m end \u001B[38;5;241m!=\u001B[39m \u001B[38;5;28mlen\u001B[39m(s):\n\u001B[0;32m--> 340\u001B[0m     \u001B[38;5;28;01mraise\u001B[39;00m JSONDecodeError(\u001B[38;5;124m\"\u001B[39m\u001B[38;5;124mExtra data\u001B[39m\u001B[38;5;124m\"\u001B[39m, s, end)\n\u001B[1;32m    341\u001B[0m \u001B[38;5;28;01mreturn\u001B[39;00m obj\n",
      "\u001B[0;31mJSONDecodeError\u001B[0m: Extra data: line 4 column 4 (char 204)",
      "\nDuring handling of the above exception, another exception occurred:\n",
      "\u001B[0;31mValidationError\u001B[0m                           Traceback (most recent call last)",
      "Cell \u001B[0;32mIn[59], line 1\u001B[0m\n\u001B[0;32m----> 1\u001B[0m output \u001B[38;5;241m=\u001B[39m \u001B[43mprogram\u001B[49m\u001B[43m(\u001B[49m\u001B[43mvariant\u001B[49m\u001B[38;5;241;43m=\u001B[39;49m\u001B[38;5;124;43m\"\u001B[39;49m\u001B[38;5;124;43mrs1421085\u001B[39;49m\u001B[38;5;124;43m\"\u001B[39;49m\u001B[43m,\u001B[49m\u001B[43m \u001B[49m\u001B[43mphenotype\u001B[49m\u001B[38;5;241;43m=\u001B[39;49m\u001B[38;5;124;43m\"\u001B[39;49m\u001B[38;5;124;43mobesity\u001B[39;49m\u001B[38;5;124;43m\"\u001B[39;49m\u001B[43m)\u001B[49m\n\u001B[1;32m      2\u001B[0m \u001B[38;5;28mprint\u001B[39m(output)\n",
      "File \u001B[0;32m~/miniconda3/lib/python3.10/site-packages/llama_index/core/program/llm_program.py:103\u001B[0m, in \u001B[0;36mLLMTextCompletionProgram.__call__\u001B[0;34m(self, llm_kwargs, *args, **kwargs)\u001B[0m\n\u001B[1;32m     99\u001B[0m     response \u001B[38;5;241m=\u001B[39m \u001B[38;5;28mself\u001B[39m\u001B[38;5;241m.\u001B[39m_llm\u001B[38;5;241m.\u001B[39mcomplete(formatted_prompt, \u001B[38;5;241m*\u001B[39m\u001B[38;5;241m*\u001B[39mllm_kwargs)\n\u001B[1;32m    101\u001B[0m     raw_output \u001B[38;5;241m=\u001B[39m response\u001B[38;5;241m.\u001B[39mtext\n\u001B[0;32m--> 103\u001B[0m output \u001B[38;5;241m=\u001B[39m \u001B[38;5;28;43mself\u001B[39;49m\u001B[38;5;241;43m.\u001B[39;49m\u001B[43m_output_parser\u001B[49m\u001B[38;5;241;43m.\u001B[39;49m\u001B[43mparse\u001B[49m\u001B[43m(\u001B[49m\u001B[43mraw_output\u001B[49m\u001B[43m)\u001B[49m\n\u001B[1;32m    104\u001B[0m \u001B[38;5;28;01mif\u001B[39;00m \u001B[38;5;129;01mnot\u001B[39;00m \u001B[38;5;28misinstance\u001B[39m(output, \u001B[38;5;28mself\u001B[39m\u001B[38;5;241m.\u001B[39m_output_cls):\n\u001B[1;32m    105\u001B[0m     \u001B[38;5;28;01mraise\u001B[39;00m \u001B[38;5;167;01mValueError\u001B[39;00m(\n\u001B[1;32m    106\u001B[0m         \u001B[38;5;124mf\u001B[39m\u001B[38;5;124m\"\u001B[39m\u001B[38;5;124mOutput parser returned \u001B[39m\u001B[38;5;132;01m{\u001B[39;00m\u001B[38;5;28mtype\u001B[39m(output)\u001B[38;5;132;01m}\u001B[39;00m\u001B[38;5;124m but expected \u001B[39m\u001B[38;5;132;01m{\u001B[39;00m\u001B[38;5;28mself\u001B[39m\u001B[38;5;241m.\u001B[39m_output_cls\u001B[38;5;132;01m}\u001B[39;00m\u001B[38;5;124m\"\u001B[39m\n\u001B[1;32m    107\u001B[0m     )\n",
      "File \u001B[0;32m~/miniconda3/lib/python3.10/site-packages/llama_index/core/output_parsers/pydantic.py:62\u001B[0m, in \u001B[0;36mPydanticOutputParser.parse\u001B[0;34m(self, text)\u001B[0m\n\u001B[1;32m     60\u001B[0m \u001B[38;5;250m\u001B[39m\u001B[38;5;124;03m\"\"\"Parse, validate, and correct errors programmatically.\"\"\"\u001B[39;00m\n\u001B[1;32m     61\u001B[0m json_str \u001B[38;5;241m=\u001B[39m extract_json_str(text)\n\u001B[0;32m---> 62\u001B[0m \u001B[38;5;28;01mreturn\u001B[39;00m \u001B[38;5;28;43mself\u001B[39;49m\u001B[38;5;241;43m.\u001B[39;49m\u001B[43m_output_cls\u001B[49m\u001B[38;5;241;43m.\u001B[39;49m\u001B[43mparse_raw\u001B[49m\u001B[43m(\u001B[49m\u001B[43mjson_str\u001B[49m\u001B[43m)\u001B[49m\n",
      "File \u001B[0;32m~/miniconda3/lib/python3.10/site-packages/pydantic/main.py:1170\u001B[0m, in \u001B[0;36mBaseModel.parse_raw\u001B[0;34m(cls, b, content_type, encoding, proto, allow_pickle)\u001B[0m\n\u001B[1;32m   1163\u001B[0m     \u001B[38;5;66;03m# ctx is missing here, but since we've added `input` to the error, we're not pretending it's the same\u001B[39;00m\n\u001B[1;32m   1164\u001B[0m     error: pydantic_core\u001B[38;5;241m.\u001B[39mInitErrorDetails \u001B[38;5;241m=\u001B[39m {\n\u001B[1;32m   1165\u001B[0m         \u001B[38;5;66;03m# The type: ignore on the next line is to ignore the requirement of LiteralString\u001B[39;00m\n\u001B[1;32m   1166\u001B[0m         \u001B[38;5;124m'\u001B[39m\u001B[38;5;124mtype\u001B[39m\u001B[38;5;124m'\u001B[39m: pydantic_core\u001B[38;5;241m.\u001B[39mPydanticCustomError(type_str, \u001B[38;5;28mstr\u001B[39m(exc)),  \u001B[38;5;66;03m# type: ignore\u001B[39;00m\n\u001B[1;32m   1167\u001B[0m         \u001B[38;5;124m'\u001B[39m\u001B[38;5;124mloc\u001B[39m\u001B[38;5;124m'\u001B[39m: (\u001B[38;5;124m'\u001B[39m\u001B[38;5;124m__root__\u001B[39m\u001B[38;5;124m'\u001B[39m,),\n\u001B[1;32m   1168\u001B[0m         \u001B[38;5;124m'\u001B[39m\u001B[38;5;124minput\u001B[39m\u001B[38;5;124m'\u001B[39m: b,\n\u001B[1;32m   1169\u001B[0m     }\n\u001B[0;32m-> 1170\u001B[0m     \u001B[38;5;28;01mraise\u001B[39;00m pydantic_core\u001B[38;5;241m.\u001B[39mValidationError\u001B[38;5;241m.\u001B[39mfrom_exception_data(\u001B[38;5;28mcls\u001B[39m\u001B[38;5;241m.\u001B[39m\u001B[38;5;18m__name__\u001B[39m, [error])\n\u001B[1;32m   1171\u001B[0m \u001B[38;5;28;01mreturn\u001B[39;00m \u001B[38;5;28mcls\u001B[39m\u001B[38;5;241m.\u001B[39mmodel_validate(obj)\n",
      "\u001B[0;31mValidationError\u001B[0m: 1 validation error for GoTerms\n__root__\n  Extra data: line 4 column 4 (char 204) [type=value_error.jsondecode, input_value='{\\n    \"Name\": \"regulati...buting to obesity\"\\n  }', input_type=str]"
     ]
    }
   ],
   "execution_count": 59
  },
  {
   "metadata": {
    "ExecuteTime": {
     "end_time": "2024-06-10T18:49:53.151681Z",
     "start_time": "2024-06-10T18:49:53.113956Z"
    }
   },
   "cell_type": "code",
   "source": "ollama.tokenizer",
   "id": "136bfa88d7a6eb19",
   "outputs": [
    {
     "ename": "AttributeError",
     "evalue": "'Ollama' object has no attribute 'tokenizer'",
     "output_type": "error",
     "traceback": [
      "\u001B[0;31m---------------------------------------------------------------------------\u001B[0m",
      "\u001B[0;31mAttributeError\u001B[0m                            Traceback (most recent call last)",
      "Cell \u001B[0;32mIn[62], line 1\u001B[0m\n\u001B[0;32m----> 1\u001B[0m \u001B[43mollama\u001B[49m\u001B[38;5;241;43m.\u001B[39;49m\u001B[43mtokenizer\u001B[49m\n",
      "\u001B[0;31mAttributeError\u001B[0m: 'Ollama' object has no attribute 'tokenizer'"
     ]
    }
   ],
   "execution_count": 62
  },
  {
   "metadata": {
    "ExecuteTime": {
     "end_time": "2024-06-10T18:45:46.466634Z",
     "start_time": "2024-06-10T18:45:46.282447Z"
    }
   },
   "cell_type": "code",
   "source": [
    "response = query_engine.query(query_str, variant=\"rs1421085\", phenotype=\"obesity\")\n",
    "print(str(response))"
   ],
   "id": "973a22e0616199e1",
   "outputs": [
    {
     "ename": "TypeError",
     "evalue": "got an unexpected keyword argument 'variant'",
     "output_type": "error",
     "traceback": [
      "\u001B[0;31m---------------------------------------------------------------------------\u001B[0m",
      "\u001B[0;31mTypeError\u001B[0m                                 Traceback (most recent call last)",
      "Cell \u001B[0;32mIn[61], line 1\u001B[0m\n\u001B[0;32m----> 1\u001B[0m response \u001B[38;5;241m=\u001B[39m \u001B[43mquery_engine\u001B[49m\u001B[38;5;241;43m.\u001B[39;49m\u001B[43mquery\u001B[49m\u001B[43m(\u001B[49m\u001B[43mquery_str\u001B[49m\u001B[43m,\u001B[49m\u001B[43m \u001B[49m\u001B[43mvariant\u001B[49m\u001B[38;5;241;43m=\u001B[39;49m\u001B[38;5;124;43m\"\u001B[39;49m\u001B[38;5;124;43mrs1421085\u001B[39;49m\u001B[38;5;124;43m\"\u001B[39;49m\u001B[43m,\u001B[49m\u001B[43m \u001B[49m\u001B[43mphenotype\u001B[49m\u001B[38;5;241;43m=\u001B[39;49m\u001B[38;5;124;43m\"\u001B[39;49m\u001B[38;5;124;43mobesity\u001B[39;49m\u001B[38;5;124;43m\"\u001B[39;49m\u001B[43m)\u001B[49m\n\u001B[1;32m      2\u001B[0m \u001B[38;5;28mprint\u001B[39m(\u001B[38;5;28mstr\u001B[39m(response))\n",
      "File \u001B[0;32m~/miniconda3/lib/python3.10/site-packages/llama_index/core/instrumentation/dispatcher.py:260\u001B[0m, in \u001B[0;36mDispatcher.span.<locals>.wrapper\u001B[0;34m(func, instance, args, kwargs)\u001B[0m\n\u001B[1;32m    258\u001B[0m \u001B[38;5;129m@wrapt\u001B[39m\u001B[38;5;241m.\u001B[39mdecorator\n\u001B[1;32m    259\u001B[0m \u001B[38;5;28;01mdef\u001B[39;00m \u001B[38;5;21mwrapper\u001B[39m(func, instance, args, kwargs):\n\u001B[0;32m--> 260\u001B[0m     bound_args \u001B[38;5;241m=\u001B[39m \u001B[43minspect\u001B[49m\u001B[38;5;241;43m.\u001B[39;49m\u001B[43msignature\u001B[49m\u001B[43m(\u001B[49m\u001B[43mfunc\u001B[49m\u001B[43m)\u001B[49m\u001B[38;5;241;43m.\u001B[39;49m\u001B[43mbind\u001B[49m\u001B[43m(\u001B[49m\u001B[38;5;241;43m*\u001B[39;49m\u001B[43margs\u001B[49m\u001B[43m,\u001B[49m\u001B[43m \u001B[49m\u001B[38;5;241;43m*\u001B[39;49m\u001B[38;5;241;43m*\u001B[39;49m\u001B[43mkwargs\u001B[49m\u001B[43m)\u001B[49m\n\u001B[1;32m    261\u001B[0m     id_ \u001B[38;5;241m=\u001B[39m \u001B[38;5;124mf\u001B[39m\u001B[38;5;124m\"\u001B[39m\u001B[38;5;132;01m{\u001B[39;00mfunc\u001B[38;5;241m.\u001B[39m\u001B[38;5;18m__qualname__\u001B[39m\u001B[38;5;132;01m}\u001B[39;00m\u001B[38;5;124m-\u001B[39m\u001B[38;5;132;01m{\u001B[39;00muuid\u001B[38;5;241m.\u001B[39muuid4()\u001B[38;5;132;01m}\u001B[39;00m\u001B[38;5;124m\"\u001B[39m\n\u001B[1;32m    262\u001B[0m     \u001B[38;5;28;01mwith\u001B[39;00m \u001B[38;5;28mself\u001B[39m\u001B[38;5;241m.\u001B[39mlock:\n",
      "File \u001B[0;32m~/miniconda3/lib/python3.10/inspect.py:3182\u001B[0m, in \u001B[0;36mSignature.bind\u001B[0;34m(self, *args, **kwargs)\u001B[0m\n\u001B[1;32m   3177\u001B[0m \u001B[38;5;28;01mdef\u001B[39;00m \u001B[38;5;21mbind\u001B[39m(\u001B[38;5;28mself\u001B[39m, \u001B[38;5;241m/\u001B[39m, \u001B[38;5;241m*\u001B[39margs, \u001B[38;5;241m*\u001B[39m\u001B[38;5;241m*\u001B[39mkwargs):\n\u001B[1;32m   3178\u001B[0m \u001B[38;5;250m    \u001B[39m\u001B[38;5;124;03m\"\"\"Get a BoundArguments object, that maps the passed `args`\u001B[39;00m\n\u001B[1;32m   3179\u001B[0m \u001B[38;5;124;03m    and `kwargs` to the function's signature.  Raises `TypeError`\u001B[39;00m\n\u001B[1;32m   3180\u001B[0m \u001B[38;5;124;03m    if the passed arguments can not be bound.\u001B[39;00m\n\u001B[1;32m   3181\u001B[0m \u001B[38;5;124;03m    \"\"\"\u001B[39;00m\n\u001B[0;32m-> 3182\u001B[0m     \u001B[38;5;28;01mreturn\u001B[39;00m \u001B[38;5;28;43mself\u001B[39;49m\u001B[38;5;241;43m.\u001B[39;49m\u001B[43m_bind\u001B[49m\u001B[43m(\u001B[49m\u001B[43margs\u001B[49m\u001B[43m,\u001B[49m\u001B[43m \u001B[49m\u001B[43mkwargs\u001B[49m\u001B[43m)\u001B[49m\n",
      "File \u001B[0;32m~/miniconda3/lib/python3.10/inspect.py:3171\u001B[0m, in \u001B[0;36mSignature._bind\u001B[0;34m(self, args, kwargs, partial)\u001B[0m\n\u001B[1;32m   3169\u001B[0m         arguments[kwargs_param\u001B[38;5;241m.\u001B[39mname] \u001B[38;5;241m=\u001B[39m kwargs\n\u001B[1;32m   3170\u001B[0m     \u001B[38;5;28;01melse\u001B[39;00m:\n\u001B[0;32m-> 3171\u001B[0m         \u001B[38;5;28;01mraise\u001B[39;00m \u001B[38;5;167;01mTypeError\u001B[39;00m(\n\u001B[1;32m   3172\u001B[0m             \u001B[38;5;124m'\u001B[39m\u001B[38;5;124mgot an unexpected keyword argument \u001B[39m\u001B[38;5;132;01m{arg!r}\u001B[39;00m\u001B[38;5;124m'\u001B[39m\u001B[38;5;241m.\u001B[39mformat(\n\u001B[1;32m   3173\u001B[0m                 arg\u001B[38;5;241m=\u001B[39m\u001B[38;5;28mnext\u001B[39m(\u001B[38;5;28miter\u001B[39m(kwargs))))\n\u001B[1;32m   3175\u001B[0m \u001B[38;5;28;01mreturn\u001B[39;00m \u001B[38;5;28mself\u001B[39m\u001B[38;5;241m.\u001B[39m_bound_arguments_cls(\u001B[38;5;28mself\u001B[39m, arguments)\n",
      "\u001B[0;31mTypeError\u001B[0m: got an unexpected keyword argument 'variant'"
     ]
    }
   ],
   "execution_count": 61
  },
  {
   "metadata": {
    "ExecuteTime": {
     "end_time": "2024-06-05T11:44:33.975483Z",
     "start_time": "2024-06-05T11:44:33.946243Z"
    }
   },
   "cell_type": "code",
   "source": [
    "import json\n",
    "subset_go_df = {\"ID\": [], \"Name\": [], \"Reason\": [], \"Adjusted P-value\": []}\n",
    "llm_res = json.loads(response.response)\n",
    "for res in llm_res:\n",
    "    row = enrichr_df[enrichr_df[\"Term\"].str.contains(res[\"Name\"], case=False)]\n",
    "    if len(row) == 0:\n",
    "        print(f\"Couldn't find {res['Name']}\")\n",
    "        continue\n",
    "    elif len(row) > 1:\n",
    "        row = row.head(1)\n",
    "    go_id, name, reason, pval = row[\"ID\"].iloc[0], row[\"Term\"].iloc[0], \\\n",
    "                                res[\"Reason\"], row[\"Adjusted P-value\"].iloc[0]\n",
    "    if go_id not in subset_go_df[\"ID\"]:\n",
    "        subset_go_df[\"ID\"].append(go_id)\n",
    "        subset_go_df[\"Name\"].append(name)\n",
    "        subset_go_df[\"Reason\"].append(reason)\n",
    "        subset_go_df[\"Adjusted P-value\"].append(pval)"
   ],
   "id": "112a5649441ee665",
   "outputs": [
    {
     "name": "stdout",
     "output_type": "stream",
     "text": [
      "Couldn't find Regulation Of Cellular Response To Low-Density Lipoprotein Particle Stimulus\n"
     ]
    }
   ],
   "execution_count": 46
  },
  {
   "metadata": {
    "ExecuteTime": {
     "end_time": "2024-06-05T11:39:48.936792Z",
     "start_time": "2024-06-05T11:39:48.918722Z"
    }
   },
   "cell_type": "code",
   "source": "pd.DataFrame(subset_go_df)",
   "id": "6035e5fd84df2163",
   "outputs": [
    {
     "data": {
      "text/plain": [
       "           ID                                               Name  \\\n",
       "0  GO:1904177          Regulation Of Adipose Tissue Development    \n",
       "1  GO:0071404  Cellular Response To Low-Density Lipoprotein P...   \n",
       "2  GO:0045598            Regulation Of Fat Cell Differentiation    \n",
       "3  GO:0009893          Positive Regulation Of Metabolic Process    \n",
       "4  GO:0009892          Negative Regulation Of Metabolic Process    \n",
       "5  GO:0045923  Positive Regulation Of Fatty Acid Metabolic Pr...   \n",
       "6  GO:0033211           Adiponectin-Activated Signaling Pathway    \n",
       "7  GO:0071385      Cellular Response To Glucocorticoid Stimulus    \n",
       "8  GO:0051247  Positive Regulation Of Protein Metabolic Process    \n",
       "9  GO:0050728      Negative Regulation Of Inflammatory Response    \n",
       "\n",
       "                                              Reason  Adjusted P-value  \n",
       "0  This term is relevant as it involves the devel...          0.004956  \n",
       "1  Low-density lipoprotein (LDL) is often referre...          0.003305  \n",
       "2  This term is relevant as it involves the diffe...          0.026643  \n",
       "3  Obesity can be caused by an imbalance in metab...          0.000005  \n",
       "4  A decrease in certain metabolic activities can...          0.001581  \n",
       "5  An increase in the metabolism of fatty acids c...          0.001479  \n",
       "6  Adiponectin is a hormone that regulates glucos...          0.015115  \n",
       "7  Glucocorticoids can influence carbohydrate and...          0.014414  \n",
       "8  An increase in protein metabolism can lead to ...          0.000776  \n",
       "9  Obesity is often associated with chronic low-g...          0.000179  "
      ],
      "text/html": [
       "<div>\n",
       "<style scoped>\n",
       "    .dataframe tbody tr th:only-of-type {\n",
       "        vertical-align: middle;\n",
       "    }\n",
       "\n",
       "    .dataframe tbody tr th {\n",
       "        vertical-align: top;\n",
       "    }\n",
       "\n",
       "    .dataframe thead th {\n",
       "        text-align: right;\n",
       "    }\n",
       "</style>\n",
       "<table border=\"1\" class=\"dataframe\">\n",
       "  <thead>\n",
       "    <tr style=\"text-align: right;\">\n",
       "      <th></th>\n",
       "      <th>ID</th>\n",
       "      <th>Name</th>\n",
       "      <th>Reason</th>\n",
       "      <th>Adjusted P-value</th>\n",
       "    </tr>\n",
       "  </thead>\n",
       "  <tbody>\n",
       "    <tr>\n",
       "      <th>0</th>\n",
       "      <td>GO:1904177</td>\n",
       "      <td>Regulation Of Adipose Tissue Development</td>\n",
       "      <td>This term is relevant as it involves the devel...</td>\n",
       "      <td>0.004956</td>\n",
       "    </tr>\n",
       "    <tr>\n",
       "      <th>1</th>\n",
       "      <td>GO:0071404</td>\n",
       "      <td>Cellular Response To Low-Density Lipoprotein P...</td>\n",
       "      <td>Low-density lipoprotein (LDL) is often referre...</td>\n",
       "      <td>0.003305</td>\n",
       "    </tr>\n",
       "    <tr>\n",
       "      <th>2</th>\n",
       "      <td>GO:0045598</td>\n",
       "      <td>Regulation Of Fat Cell Differentiation</td>\n",
       "      <td>This term is relevant as it involves the diffe...</td>\n",
       "      <td>0.026643</td>\n",
       "    </tr>\n",
       "    <tr>\n",
       "      <th>3</th>\n",
       "      <td>GO:0009893</td>\n",
       "      <td>Positive Regulation Of Metabolic Process</td>\n",
       "      <td>Obesity can be caused by an imbalance in metab...</td>\n",
       "      <td>0.000005</td>\n",
       "    </tr>\n",
       "    <tr>\n",
       "      <th>4</th>\n",
       "      <td>GO:0009892</td>\n",
       "      <td>Negative Regulation Of Metabolic Process</td>\n",
       "      <td>A decrease in certain metabolic activities can...</td>\n",
       "      <td>0.001581</td>\n",
       "    </tr>\n",
       "    <tr>\n",
       "      <th>5</th>\n",
       "      <td>GO:0045923</td>\n",
       "      <td>Positive Regulation Of Fatty Acid Metabolic Pr...</td>\n",
       "      <td>An increase in the metabolism of fatty acids c...</td>\n",
       "      <td>0.001479</td>\n",
       "    </tr>\n",
       "    <tr>\n",
       "      <th>6</th>\n",
       "      <td>GO:0033211</td>\n",
       "      <td>Adiponectin-Activated Signaling Pathway</td>\n",
       "      <td>Adiponectin is a hormone that regulates glucos...</td>\n",
       "      <td>0.015115</td>\n",
       "    </tr>\n",
       "    <tr>\n",
       "      <th>7</th>\n",
       "      <td>GO:0071385</td>\n",
       "      <td>Cellular Response To Glucocorticoid Stimulus</td>\n",
       "      <td>Glucocorticoids can influence carbohydrate and...</td>\n",
       "      <td>0.014414</td>\n",
       "    </tr>\n",
       "    <tr>\n",
       "      <th>8</th>\n",
       "      <td>GO:0051247</td>\n",
       "      <td>Positive Regulation Of Protein Metabolic Process</td>\n",
       "      <td>An increase in protein metabolism can lead to ...</td>\n",
       "      <td>0.000776</td>\n",
       "    </tr>\n",
       "    <tr>\n",
       "      <th>9</th>\n",
       "      <td>GO:0050728</td>\n",
       "      <td>Negative Regulation Of Inflammatory Response</td>\n",
       "      <td>Obesity is often associated with chronic low-g...</td>\n",
       "      <td>0.000179</td>\n",
       "    </tr>\n",
       "  </tbody>\n",
       "</table>\n",
       "</div>"
      ]
     },
     "execution_count": 33,
     "metadata": {},
     "output_type": "execute_result"
    }
   ],
   "execution_count": 33
  },
  {
   "metadata": {
    "ExecuteTime": {
     "end_time": "2024-06-05T11:37:34.486474Z",
     "start_time": "2024-06-05T11:37:34.469851Z"
    }
   },
   "cell_type": "code",
   "source": "pd.DataFrame(subset_go_df)",
   "id": "376bea20e9bce3f6",
   "outputs": [
    {
     "data": {
      "text/plain": [
       "           ID                                               Name  \\\n",
       "0  GO:1904177          Regulation Of Adipose Tissue Development    \n",
       "1  GO:0071404  Cellular Response To Low-Density Lipoprotein P...   \n",
       "2  GO:0045598            Regulation Of Fat Cell Differentiation    \n",
       "3  GO:0045923  Positive Regulation Of Fatty Acid Metabolic Pr...   \n",
       "4  GO:0033211           Adiponectin-Activated Signaling Pathway    \n",
       "5  GO:0071385      Cellular Response To Glucocorticoid Stimulus    \n",
       "6  GO:0051247  Positive Regulation Of Protein Metabolic Process    \n",
       "7  GO:0009892          Negative Regulation Of Metabolic Process    \n",
       "8  GO:0050728      Negative Regulation Of Inflammatory Response    \n",
       "9  GO:0009893          Positive Regulation Of Metabolic Process    \n",
       "\n",
       "                                              Reason  Adjusted P-value  \n",
       "0  This term directly relates to the development ...          0.004956  \n",
       "1  Low-density lipoprotein particles are associat...          0.003305  \n",
       "2  The differentiation of fat cells plays a cruci...          0.026643  \n",
       "3  Fatty acid metabolism is closely linked to obe...          0.001479  \n",
       "4  Adiponectin is a key hormone involved in regul...          0.015115  \n",
       "5  Glucocorticoids can impact metabolism and infl...          0.014414  \n",
       "6  Protein metabolism is essential for various ph...          0.000776  \n",
       "7  Dysregulation of metabolic processes can contr...          0.001581  \n",
       "8  Inflammation is associated with obesity-relate...          0.000179  \n",
       "9  Efficient metabolic processes are crucial for ...          0.000005  "
      ],
      "text/html": [
       "<div>\n",
       "<style scoped>\n",
       "    .dataframe tbody tr th:only-of-type {\n",
       "        vertical-align: middle;\n",
       "    }\n",
       "\n",
       "    .dataframe tbody tr th {\n",
       "        vertical-align: top;\n",
       "    }\n",
       "\n",
       "    .dataframe thead th {\n",
       "        text-align: right;\n",
       "    }\n",
       "</style>\n",
       "<table border=\"1\" class=\"dataframe\">\n",
       "  <thead>\n",
       "    <tr style=\"text-align: right;\">\n",
       "      <th></th>\n",
       "      <th>ID</th>\n",
       "      <th>Name</th>\n",
       "      <th>Reason</th>\n",
       "      <th>Adjusted P-value</th>\n",
       "    </tr>\n",
       "  </thead>\n",
       "  <tbody>\n",
       "    <tr>\n",
       "      <th>0</th>\n",
       "      <td>GO:1904177</td>\n",
       "      <td>Regulation Of Adipose Tissue Development</td>\n",
       "      <td>This term directly relates to the development ...</td>\n",
       "      <td>0.004956</td>\n",
       "    </tr>\n",
       "    <tr>\n",
       "      <th>1</th>\n",
       "      <td>GO:0071404</td>\n",
       "      <td>Cellular Response To Low-Density Lipoprotein P...</td>\n",
       "      <td>Low-density lipoprotein particles are associat...</td>\n",
       "      <td>0.003305</td>\n",
       "    </tr>\n",
       "    <tr>\n",
       "      <th>2</th>\n",
       "      <td>GO:0045598</td>\n",
       "      <td>Regulation Of Fat Cell Differentiation</td>\n",
       "      <td>The differentiation of fat cells plays a cruci...</td>\n",
       "      <td>0.026643</td>\n",
       "    </tr>\n",
       "    <tr>\n",
       "      <th>3</th>\n",
       "      <td>GO:0045923</td>\n",
       "      <td>Positive Regulation Of Fatty Acid Metabolic Pr...</td>\n",
       "      <td>Fatty acid metabolism is closely linked to obe...</td>\n",
       "      <td>0.001479</td>\n",
       "    </tr>\n",
       "    <tr>\n",
       "      <th>4</th>\n",
       "      <td>GO:0033211</td>\n",
       "      <td>Adiponectin-Activated Signaling Pathway</td>\n",
       "      <td>Adiponectin is a key hormone involved in regul...</td>\n",
       "      <td>0.015115</td>\n",
       "    </tr>\n",
       "    <tr>\n",
       "      <th>5</th>\n",
       "      <td>GO:0071385</td>\n",
       "      <td>Cellular Response To Glucocorticoid Stimulus</td>\n",
       "      <td>Glucocorticoids can impact metabolism and infl...</td>\n",
       "      <td>0.014414</td>\n",
       "    </tr>\n",
       "    <tr>\n",
       "      <th>6</th>\n",
       "      <td>GO:0051247</td>\n",
       "      <td>Positive Regulation Of Protein Metabolic Process</td>\n",
       "      <td>Protein metabolism is essential for various ph...</td>\n",
       "      <td>0.000776</td>\n",
       "    </tr>\n",
       "    <tr>\n",
       "      <th>7</th>\n",
       "      <td>GO:0009892</td>\n",
       "      <td>Negative Regulation Of Metabolic Process</td>\n",
       "      <td>Dysregulation of metabolic processes can contr...</td>\n",
       "      <td>0.001581</td>\n",
       "    </tr>\n",
       "    <tr>\n",
       "      <th>8</th>\n",
       "      <td>GO:0050728</td>\n",
       "      <td>Negative Regulation Of Inflammatory Response</td>\n",
       "      <td>Inflammation is associated with obesity-relate...</td>\n",
       "      <td>0.000179</td>\n",
       "    </tr>\n",
       "    <tr>\n",
       "      <th>9</th>\n",
       "      <td>GO:0009893</td>\n",
       "      <td>Positive Regulation Of Metabolic Process</td>\n",
       "      <td>Efficient metabolic processes are crucial for ...</td>\n",
       "      <td>0.000005</td>\n",
       "    </tr>\n",
       "  </tbody>\n",
       "</table>\n",
       "</div>"
      ]
     },
     "execution_count": 26,
     "metadata": {},
     "output_type": "execute_result"
    }
   ],
   "execution_count": 26
  },
  {
   "metadata": {
    "ExecuteTime": {
     "end_time": "2024-06-05T11:44:41.610216Z",
     "start_time": "2024-06-05T11:44:41.594269Z"
    }
   },
   "cell_type": "code",
   "source": "pd.DataFrame(subset_go_df)",
   "id": "314fdaef352e2b1c",
   "outputs": [
    {
     "data": {
      "text/plain": [
       "           ID                                               Name  \\\n",
       "0  GO:1904177          Regulation Of Adipose Tissue Development    \n",
       "1  GO:0045923  Positive Regulation Of Fatty Acid Metabolic Pr...   \n",
       "2  GO:0045598            Regulation Of Fat Cell Differentiation    \n",
       "3  GO:0009893          Positive Regulation Of Metabolic Process    \n",
       "4  GO:0033211           Adiponectin-Activated Signaling Pathway    \n",
       "5  GO:0050728      Negative Regulation Of Inflammatory Response    \n",
       "6  GO:0051247  Positive Regulation Of Protein Metabolic Process    \n",
       "7  GO:0071385      Cellular Response To Glucocorticoid Stimulus    \n",
       "8  GO:0009892          Negative Regulation Of Metabolic Process    \n",
       "\n",
       "                                              Reason  Adjusted P-value  \n",
       "0  The causal relationship between SNP rs1421085 ...          0.004956  \n",
       "1  SNP rs1421085 may influence the regulation of ...          0.001479  \n",
       "2  The SNP may affect the differentiation of fat ...          0.026643  \n",
       "3  Changes in metabolic processes can contribute ...          0.000005  \n",
       "4  Adiponectin is a hormone that regulates glucos...          0.015115  \n",
       "5  Inflammation is a known contributor to obesity...          0.000179  \n",
       "6  Changes in protein metabolism can impact energ...          0.000776  \n",
       "7  Glucocorticoids play a critical role in regula...          0.014414  \n",
       "8  The negative regulation of metabolic process t...          0.001581  "
      ],
      "text/html": [
       "<div>\n",
       "<style scoped>\n",
       "    .dataframe tbody tr th:only-of-type {\n",
       "        vertical-align: middle;\n",
       "    }\n",
       "\n",
       "    .dataframe tbody tr th {\n",
       "        vertical-align: top;\n",
       "    }\n",
       "\n",
       "    .dataframe thead th {\n",
       "        text-align: right;\n",
       "    }\n",
       "</style>\n",
       "<table border=\"1\" class=\"dataframe\">\n",
       "  <thead>\n",
       "    <tr style=\"text-align: right;\">\n",
       "      <th></th>\n",
       "      <th>ID</th>\n",
       "      <th>Name</th>\n",
       "      <th>Reason</th>\n",
       "      <th>Adjusted P-value</th>\n",
       "    </tr>\n",
       "  </thead>\n",
       "  <tbody>\n",
       "    <tr>\n",
       "      <th>0</th>\n",
       "      <td>GO:1904177</td>\n",
       "      <td>Regulation Of Adipose Tissue Development</td>\n",
       "      <td>The causal relationship between SNP rs1421085 ...</td>\n",
       "      <td>0.004956</td>\n",
       "    </tr>\n",
       "    <tr>\n",
       "      <th>1</th>\n",
       "      <td>GO:0045923</td>\n",
       "      <td>Positive Regulation Of Fatty Acid Metabolic Pr...</td>\n",
       "      <td>SNP rs1421085 may influence the regulation of ...</td>\n",
       "      <td>0.001479</td>\n",
       "    </tr>\n",
       "    <tr>\n",
       "      <th>2</th>\n",
       "      <td>GO:0045598</td>\n",
       "      <td>Regulation Of Fat Cell Differentiation</td>\n",
       "      <td>The SNP may affect the differentiation of fat ...</td>\n",
       "      <td>0.026643</td>\n",
       "    </tr>\n",
       "    <tr>\n",
       "      <th>3</th>\n",
       "      <td>GO:0009893</td>\n",
       "      <td>Positive Regulation Of Metabolic Process</td>\n",
       "      <td>Changes in metabolic processes can contribute ...</td>\n",
       "      <td>0.000005</td>\n",
       "    </tr>\n",
       "    <tr>\n",
       "      <th>4</th>\n",
       "      <td>GO:0033211</td>\n",
       "      <td>Adiponectin-Activated Signaling Pathway</td>\n",
       "      <td>Adiponectin is a hormone that regulates glucos...</td>\n",
       "      <td>0.015115</td>\n",
       "    </tr>\n",
       "    <tr>\n",
       "      <th>5</th>\n",
       "      <td>GO:0050728</td>\n",
       "      <td>Negative Regulation Of Inflammatory Response</td>\n",
       "      <td>Inflammation is a known contributor to obesity...</td>\n",
       "      <td>0.000179</td>\n",
       "    </tr>\n",
       "    <tr>\n",
       "      <th>6</th>\n",
       "      <td>GO:0051247</td>\n",
       "      <td>Positive Regulation Of Protein Metabolic Process</td>\n",
       "      <td>Changes in protein metabolism can impact energ...</td>\n",
       "      <td>0.000776</td>\n",
       "    </tr>\n",
       "    <tr>\n",
       "      <th>7</th>\n",
       "      <td>GO:0071385</td>\n",
       "      <td>Cellular Response To Glucocorticoid Stimulus</td>\n",
       "      <td>Glucocorticoids play a critical role in regula...</td>\n",
       "      <td>0.014414</td>\n",
       "    </tr>\n",
       "    <tr>\n",
       "      <th>8</th>\n",
       "      <td>GO:0009892</td>\n",
       "      <td>Negative Regulation Of Metabolic Process</td>\n",
       "      <td>The negative regulation of metabolic process t...</td>\n",
       "      <td>0.001581</td>\n",
       "    </tr>\n",
       "  </tbody>\n",
       "</table>\n",
       "</div>"
      ]
     },
     "execution_count": 47,
     "metadata": {},
     "output_type": "execute_result"
    }
   ],
   "execution_count": 47
  },
  {
   "cell_type": "code",
   "outputs": [
    {
     "data": {
      "text/plain": "679"
     },
     "execution_count": 80,
     "metadata": {},
     "output_type": "execute_result"
    }
   ],
   "source": [
    "terms = []\n",
    "with open(\"/mnt/hdd_2/abdu/gtex/brown_preadipocytes_irx3_enrichr_terms.txt\", \"r\") as f:\n",
    "    for line in f:\n",
    "        go_id = line.split(\"(\")[0]\n",
    "        terms.append(go_id.strip().upper())\n",
    "len(terms)"
   ],
   "metadata": {
    "collapsed": false,
    "ExecuteTime": {
     "end_time": "2024-05-23T13:53:29.926864Z",
     "start_time": "2024-05-23T13:53:29.916512Z"
    }
   },
   "id": "a43d488a4d63247",
   "execution_count": 80
  }
 ],
 "metadata": {
  "kernelspec": {
   "display_name": "Python 3",
   "language": "python",
   "name": "python3"
  },
  "language_info": {
   "codemirror_mode": {
    "name": "ipython",
    "version": 2
   },
   "file_extension": ".py",
   "mimetype": "text/x-python",
   "name": "python",
   "nbconvert_exporter": "python",
   "pygments_lexer": "ipython2",
   "version": "2.7.6"
  }
 },
 "nbformat": 4,
 "nbformat_minor": 5
}
