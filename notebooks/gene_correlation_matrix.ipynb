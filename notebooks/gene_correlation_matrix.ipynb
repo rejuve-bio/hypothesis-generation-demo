{
 "cells": [
  {
   "cell_type": "markdown",
   "metadata": {},
   "source": [
    "### Gene Correlation Matrix: Analyzing Expression Data in AnnData Format\n",
    "\n",
    "This Jupyter Notebook demonstrates how to download and analyze gene expression data in AnnData format based on a specified tissue or cell type. It filters out genes with zero expression values and computes a correlation matrix for a specified gene.\n",
    "\n",
    "#### Steps:\n",
    "\n",
    "1. **Open and Query Data:**\n",
    "   - Access gene expression data using `cellxgene_census.open_soma()`.\n",
    "   - Query data for 'Homo sapiens' and filter by cell type ('adipocyte') or tissue type ('Adipose').\n",
    "\n",
    "2. **Filter Genes:**\n",
    "   - Set gene names (`adata.var['feature_id']`).\n",
    "   - Filter out genes with zero expression values.\n",
    "\n",
    "3. **Convert to DataFrame:**\n",
    "   - Convert the filtered expression data into a Pandas DataFrame.\n",
    "\n",
    "4. **Filter Samples:**\n",
    "   - Remove samples where the gene of interest has zero expression.\n",
    "   - Print the percentage of samples with non-zero expression for the gene of interest.\n",
    "\n",
    "5. **Calculate Correlations:**\n",
    "   - Compute Pearson correlation coefficients for the gene of interest.\n",
    "   - Return and print the top 500 most positively and negatively correlated genes.\n",
    "\n",
    "#### Usage Instructions:\n",
    "\n",
    "- Modify the `cell_type`, `tissue_type`, and `gene_of_interest` variables as needed.\n",
    "- Use `get_coexpression_matrix(gene, tissue, cell_type, k=500)` to obtain top correlated genes.\n",
    "\n",
    "#### Notes:\n",
    "\n",
    "- Ensure access to the appropriate AnnData formatted dataset.\n",
    "- Experiment with different parameters to explore gene expression correlations.\n"
   ]
  },
  {
   "cell_type": "markdown",
   "metadata": {},
   "source": [
    "### Downloading Dependencies\n",
    "\n",
    "To run this notebook, ensure you have the necessary libraries installed:\n",
    "\n",
    "- `cellxgene_census` for accessing gene expression data.\n",
    "- `pandas` for data manipulation and analysis.\n",
    "- `numpy` for numerical operations.\n",
    "- `scipy.stats` for statistical calculations, including Pearson correlation (`pearsonr`).\n"
   ]
  },
  {
   "cell_type": "code",
   "execution_count": 1,
   "metadata": {},
   "outputs": [
    {
     "name": "stdout",
     "output_type": "stream",
     "text": [
      "Requirement already satisfied: cellxgene-census in /home/abdu/miniconda3/lib/python3.10/site-packages (1.13.1)\n",
      "Requirement already satisfied: tiledbsoma~=1.9.1 in /home/abdu/miniconda3/lib/python3.10/site-packages (from cellxgene-census) (1.9.5)\n",
      "Requirement already satisfied: anndata in /home/abdu/miniconda3/lib/python3.10/site-packages (from cellxgene-census) (0.10.5.post1)\n",
      "Requirement already satisfied: numpy>=1.21 in /home/abdu/miniconda3/lib/python3.10/site-packages (from cellxgene-census) (1.26.4)\n",
      "Requirement already satisfied: requests in /home/abdu/miniconda3/lib/python3.10/site-packages (from cellxgene-census) (2.32.3)\n",
      "Requirement already satisfied: typing-extensions in /home/abdu/miniconda3/lib/python3.10/site-packages (from cellxgene-census) (4.12.2)\n",
      "Requirement already satisfied: s3fs>=2021.06.1 in /home/abdu/miniconda3/lib/python3.10/site-packages (from cellxgene-census) (2024.5.0)\n",
      "Requirement already satisfied: aiobotocore<3.0.0,>=2.5.4 in /home/abdu/miniconda3/lib/python3.10/site-packages (from s3fs>=2021.06.1->cellxgene-census) (2.13.0)\n",
      "Collecting fsspec==2024.5.0.* (from s3fs>=2021.06.1->cellxgene-census)\n",
      "  Downloading fsspec-2024.5.0-py3-none-any.whl.metadata (11 kB)\n",
      "Requirement already satisfied: aiohttp!=4.0.0a0,!=4.0.0a1 in /home/abdu/miniconda3/lib/python3.10/site-packages (from s3fs>=2021.06.1->cellxgene-census) (3.9.5)\n",
      "Requirement already satisfied: attrs>=22.2 in /home/abdu/miniconda3/lib/python3.10/site-packages (from tiledbsoma~=1.9.1->cellxgene-census) (23.2.0)\n",
      "Requirement already satisfied: numba>=0.58.0 in /home/abdu/miniconda3/lib/python3.10/site-packages (from tiledbsoma~=1.9.1->cellxgene-census) (0.59.1)\n",
      "Requirement already satisfied: pandas in /home/abdu/miniconda3/lib/python3.10/site-packages (from tiledbsoma~=1.9.1->cellxgene-census) (1.4.4)\n",
      "Requirement already satisfied: pyarrow-hotfix in /home/abdu/miniconda3/lib/python3.10/site-packages (from tiledbsoma~=1.9.1->cellxgene-census) (0.6)\n",
      "Requirement already satisfied: scanpy>=1.9.2 in /home/abdu/miniconda3/lib/python3.10/site-packages (from tiledbsoma~=1.9.1->cellxgene-census) (1.10.1)\n",
      "Requirement already satisfied: scipy in /home/abdu/miniconda3/lib/python3.10/site-packages (from tiledbsoma~=1.9.1->cellxgene-census) (1.10.0)\n",
      "Requirement already satisfied: somacore==1.0.10 in /home/abdu/miniconda3/lib/python3.10/site-packages (from tiledbsoma~=1.9.1->cellxgene-census) (1.0.10)\n",
      "Requirement already satisfied: tiledb~=0.27.0 in /home/abdu/miniconda3/lib/python3.10/site-packages (from tiledbsoma~=1.9.1->cellxgene-census) (0.27.1)\n",
      "Requirement already satisfied: pyarrow>=9.0.0 in /home/abdu/miniconda3/lib/python3.10/site-packages (from tiledbsoma~=1.9.1->cellxgene-census) (12.0.1)\n",
      "Requirement already satisfied: array-api-compat in /home/abdu/miniconda3/lib/python3.10/site-packages (from anndata->cellxgene-census) (1.4.1)\n",
      "Requirement already satisfied: exceptiongroup in /home/abdu/miniconda3/lib/python3.10/site-packages (from anndata->cellxgene-census) (1.1.0)\n",
      "Requirement already satisfied: h5py>=3 in /home/abdu/miniconda3/lib/python3.10/site-packages (from anndata->cellxgene-census) (3.8.0)\n",
      "Requirement already satisfied: natsort in /home/abdu/miniconda3/lib/python3.10/site-packages (from anndata->cellxgene-census) (8.4.0)\n",
      "Requirement already satisfied: packaging>=20 in /home/abdu/miniconda3/lib/python3.10/site-packages (from anndata->cellxgene-census) (23.0)\n",
      "Requirement already satisfied: charset-normalizer<4,>=2 in /home/abdu/miniconda3/lib/python3.10/site-packages (from requests->cellxgene-census) (3.3.2)\n",
      "Requirement already satisfied: idna<4,>=2.5 in /home/abdu/miniconda3/lib/python3.10/site-packages (from requests->cellxgene-census) (3.7)\n",
      "Requirement already satisfied: urllib3<3,>=1.21.1 in /home/abdu/miniconda3/lib/python3.10/site-packages (from requests->cellxgene-census) (2.2.1)\n",
      "Requirement already satisfied: certifi>=2017.4.17 in /home/abdu/miniconda3/lib/python3.10/site-packages (from requests->cellxgene-census) (2024.6.2)\n",
      "Requirement already satisfied: botocore<1.34.107,>=1.34.70 in /home/abdu/miniconda3/lib/python3.10/site-packages (from aiobotocore<3.0.0,>=2.5.4->s3fs>=2021.06.1->cellxgene-census) (1.34.106)\n",
      "Requirement already satisfied: wrapt<2.0.0,>=1.10.10 in /home/abdu/miniconda3/lib/python3.10/site-packages (from aiobotocore<3.0.0,>=2.5.4->s3fs>=2021.06.1->cellxgene-census) (1.14.1)\n",
      "Requirement already satisfied: aioitertools<1.0.0,>=0.5.1 in /home/abdu/miniconda3/lib/python3.10/site-packages (from aiobotocore<3.0.0,>=2.5.4->s3fs>=2021.06.1->cellxgene-census) (0.11.0)\n",
      "Requirement already satisfied: aiosignal>=1.1.2 in /home/abdu/miniconda3/lib/python3.10/site-packages (from aiohttp!=4.0.0a0,!=4.0.0a1->s3fs>=2021.06.1->cellxgene-census) (1.3.1)\n",
      "Requirement already satisfied: frozenlist>=1.1.1 in /home/abdu/miniconda3/lib/python3.10/site-packages (from aiohttp!=4.0.0a0,!=4.0.0a1->s3fs>=2021.06.1->cellxgene-census) (1.4.1)\n",
      "Requirement already satisfied: multidict<7.0,>=4.5 in /home/abdu/miniconda3/lib/python3.10/site-packages (from aiohttp!=4.0.0a0,!=4.0.0a1->s3fs>=2021.06.1->cellxgene-census) (6.0.5)\n",
      "Requirement already satisfied: yarl<2.0,>=1.0 in /home/abdu/miniconda3/lib/python3.10/site-packages (from aiohttp!=4.0.0a0,!=4.0.0a1->s3fs>=2021.06.1->cellxgene-census) (1.9.4)\n",
      "Requirement already satisfied: async-timeout<5.0,>=4.0 in /home/abdu/miniconda3/lib/python3.10/site-packages (from aiohttp!=4.0.0a0,!=4.0.0a1->s3fs>=2021.06.1->cellxgene-census) (4.0.3)\n",
      "Requirement already satisfied: llvmlite<0.43,>=0.42.0dev0 in /home/abdu/miniconda3/lib/python3.10/site-packages (from numba>=0.58.0->tiledbsoma~=1.9.1->cellxgene-census) (0.42.0)\n",
      "Requirement already satisfied: python-dateutil>=2.8.1 in /home/abdu/miniconda3/lib/python3.10/site-packages (from pandas->tiledbsoma~=1.9.1->cellxgene-census) (2.8.2)\n",
      "Requirement already satisfied: pytz>=2020.1 in /home/abdu/miniconda3/lib/python3.10/site-packages (from pandas->tiledbsoma~=1.9.1->cellxgene-census) (2022.7.1)\n",
      "Requirement already satisfied: joblib in /home/abdu/.local/lib/python3.10/site-packages (from scanpy>=1.9.2->tiledbsoma~=1.9.1->cellxgene-census) (1.2.0)\n",
      "Requirement already satisfied: legacy-api-wrap>=1.4 in /home/abdu/miniconda3/lib/python3.10/site-packages (from scanpy>=1.9.2->tiledbsoma~=1.9.1->cellxgene-census) (1.4)\n",
      "Requirement already satisfied: matplotlib>=3.6 in /home/abdu/.local/lib/python3.10/site-packages (from scanpy>=1.9.2->tiledbsoma~=1.9.1->cellxgene-census) (3.7.1)\n",
      "Requirement already satisfied: networkx>=2.7 in /home/abdu/.local/lib/python3.10/site-packages (from scanpy>=1.9.2->tiledbsoma~=1.9.1->cellxgene-census) (3.1)\n",
      "Collecting pandas (from tiledbsoma~=1.9.1->cellxgene-census)\n",
      "  Using cached pandas-2.2.2-cp310-cp310-manylinux_2_17_x86_64.manylinux2014_x86_64.whl.metadata (19 kB)\n",
      "Requirement already satisfied: patsy in /home/abdu/.local/lib/python3.10/site-packages (from scanpy>=1.9.2->tiledbsoma~=1.9.1->cellxgene-census) (0.5.3)\n",
      "Requirement already satisfied: pynndescent>=0.5 in /home/abdu/miniconda3/lib/python3.10/site-packages (from scanpy>=1.9.2->tiledbsoma~=1.9.1->cellxgene-census) (0.5.10)\n",
      "Requirement already satisfied: scikit-learn>=0.24 in /home/abdu/.local/lib/python3.10/site-packages (from scanpy>=1.9.2->tiledbsoma~=1.9.1->cellxgene-census) (1.2.2)\n",
      "Requirement already satisfied: seaborn>=0.13 in /home/abdu/miniconda3/lib/python3.10/site-packages (from scanpy>=1.9.2->tiledbsoma~=1.9.1->cellxgene-census) (0.13.2)\n",
      "Requirement already satisfied: session-info in /home/abdu/miniconda3/lib/python3.10/site-packages (from scanpy>=1.9.2->tiledbsoma~=1.9.1->cellxgene-census) (1.0.0)\n",
      "Requirement already satisfied: statsmodels>=0.13 in /home/abdu/.local/lib/python3.10/site-packages (from scanpy>=1.9.2->tiledbsoma~=1.9.1->cellxgene-census) (0.14.0)\n",
      "Requirement already satisfied: tqdm in /home/abdu/miniconda3/lib/python3.10/site-packages (from scanpy>=1.9.2->tiledbsoma~=1.9.1->cellxgene-census) (4.66.2)\n",
      "Requirement already satisfied: umap-learn!=0.5.0,>=0.5 in /home/abdu/miniconda3/lib/python3.10/site-packages (from scanpy>=1.9.2->tiledbsoma~=1.9.1->cellxgene-census) (0.5.3)\n",
      "Requirement already satisfied: tzdata>=2022.7 in /home/abdu/.local/lib/python3.10/site-packages (from pandas->tiledbsoma~=1.9.1->cellxgene-census) (2023.3)\n",
      "Requirement already satisfied: jmespath<2.0.0,>=0.7.1 in /home/abdu/miniconda3/lib/python3.10/site-packages (from botocore<1.34.107,>=1.34.70->aiobotocore<3.0.0,>=2.5.4->s3fs>=2021.06.1->cellxgene-census) (1.0.1)\n",
      "Requirement already satisfied: contourpy>=1.0.1 in /home/abdu/.local/lib/python3.10/site-packages (from matplotlib>=3.6->scanpy>=1.9.2->tiledbsoma~=1.9.1->cellxgene-census) (1.0.7)\n",
      "Requirement already satisfied: cycler>=0.10 in /home/abdu/.local/lib/python3.10/site-packages (from matplotlib>=3.6->scanpy>=1.9.2->tiledbsoma~=1.9.1->cellxgene-census) (0.11.0)\n",
      "Requirement already satisfied: fonttools>=4.22.0 in /home/abdu/.local/lib/python3.10/site-packages (from matplotlib>=3.6->scanpy>=1.9.2->tiledbsoma~=1.9.1->cellxgene-census) (4.39.4)\n",
      "Requirement already satisfied: kiwisolver>=1.0.1 in /home/abdu/.local/lib/python3.10/site-packages (from matplotlib>=3.6->scanpy>=1.9.2->tiledbsoma~=1.9.1->cellxgene-census) (1.4.4)\n",
      "Requirement already satisfied: pillow>=6.2.0 in /home/abdu/miniconda3/lib/python3.10/site-packages (from matplotlib>=3.6->scanpy>=1.9.2->tiledbsoma~=1.9.1->cellxgene-census) (9.4.0)\n",
      "Requirement already satisfied: pyparsing>=2.3.1 in /home/abdu/miniconda3/lib/python3.10/site-packages (from matplotlib>=3.6->scanpy>=1.9.2->tiledbsoma~=1.9.1->cellxgene-census) (3.0.9)\n",
      "Requirement already satisfied: six>=1.5 in /home/abdu/miniconda3/lib/python3.10/site-packages (from python-dateutil>=2.8.1->pandas->tiledbsoma~=1.9.1->cellxgene-census) (1.16.0)\n",
      "Requirement already satisfied: threadpoolctl>=2.0.0 in /home/abdu/.local/lib/python3.10/site-packages (from scikit-learn>=0.24->scanpy>=1.9.2->tiledbsoma~=1.9.1->cellxgene-census) (3.1.0)\n",
      "Requirement already satisfied: stdlib-list in /home/abdu/miniconda3/lib/python3.10/site-packages (from session-info->scanpy>=1.9.2->tiledbsoma~=1.9.1->cellxgene-census) (0.10.0)\n",
      "Downloading fsspec-2024.5.0-py3-none-any.whl (316 kB)\n",
      "\u001b[2K   \u001b[90m━━━━━━━━━━━━━━━━━━━━━━━━━━━━━━━━━━━━━━━━\u001b[0m \u001b[32m316.1/316.1 kB\u001b[0m \u001b[31m5.8 MB/s\u001b[0m eta \u001b[36m0:00:00\u001b[0ma \u001b[36m0:00:01\u001b[0m\n",
      "\u001b[?25hUsing cached pandas-2.2.2-cp310-cp310-manylinux_2_17_x86_64.manylinux2014_x86_64.whl (13.0 MB)\n",
      "Installing collected packages: fsspec, pandas\n",
      "  Attempting uninstall: fsspec\n",
      "    Found existing installation: fsspec 2024.3.1\n",
      "    Uninstalling fsspec-2024.3.1:\n",
      "      Successfully uninstalled fsspec-2024.3.1\n",
      "  Attempting uninstall: pandas\n",
      "    Found existing installation: pandas 1.4.4\n",
      "    Uninstalling pandas-1.4.4:\n",
      "      Successfully uninstalled pandas-1.4.4\n",
      "\u001b[31mERROR: pip's dependency resolver does not currently take into account all the packages that are installed. This behaviour is the source of the following dependency conflicts.\n",
      "datasets 2.19.2 requires fsspec[http]<=2024.3.1,>=2023.1.0, but you have fsspec 2024.5.0 which is incompatible.\n",
      "gwaslab 3.4.24 requires pandas<1.5,>=1.3, but you have pandas 2.2.2 which is incompatible.\n",
      "torchvision 0.18.1+cu121 requires torch==2.3.1, but you have torch 2.5.0.dev20240622+cu124 which is incompatible.\n",
      "vllm 0.5.0.post1 requires torch==2.3.0, but you have torch 2.5.0.dev20240622+cu124 which is incompatible.\n",
      "vllm-flash-attn 2.5.9 requires torch==2.3.0, but you have torch 2.5.0.dev20240622+cu124 which is incompatible.\n",
      "xformers 0.0.26.post1 requires torch==2.3.0, but you have torch 2.5.0.dev20240622+cu124 which is incompatible.\u001b[0m\u001b[31m\n",
      "\u001b[0mSuccessfully installed fsspec-2024.5.0 pandas-1.5.3\n",
      "\n",
      "\u001b[1m[\u001b[0m\u001b[34;49mnotice\u001b[0m\u001b[1;39;49m]\u001b[0m\u001b[39;49m A new release of pip is available: \u001b[0m\u001b[31;49m24.0\u001b[0m\u001b[39;49m -> \u001b[0m\u001b[32;49m24.1.2\u001b[0m\n",
      "\u001b[1m[\u001b[0m\u001b[34;49mnotice\u001b[0m\u001b[1;39;49m]\u001b[0m\u001b[39;49m To update, run: \u001b[0m\u001b[32;49mpip3.10 install --upgrade pip\u001b[0m\n",
      "Note: you may need to restart the kernel to use updated packages.\n"
     ]
    }
   ],
   "source": [
    "# %pip install cellxgene-census pandas numpy scipy\n",
    "%pip install cellxgene-census"
   ]
  },
  {
   "cell_type": "markdown",
   "metadata": {},
   "source": [
    "### Importing Required Libraries\n",
    "\n",
    "This code cell imports necessary libraries for data analysis:\n",
    "\n",
    "- `cellxgene_census`: Imports functionality for working with cellxgene data.\n",
    "- `pandas` (`pd`): Imports the Pandas library for data manipulation and analysis.\n",
    "- `numpy` (`np`): Imports NumPy for numerical computing operations.\n",
    "- `pearsonr` from `scipy.stats`: Imports the `pearsonr` function specifically for computing Pearson correlation coefficients.\n"
   ]
  },
  {
   "cell_type": "code",
   "execution_count": 2,
   "metadata": {},
   "outputs": [
    {
     "name": "stderr",
     "output_type": "stream",
     "text": [
      "/home/abdu/.local/lib/python3.10/site-packages/cupy/_environment.py:445: UserWarning: \n",
      "--------------------------------------------------------------------------------\n",
      "\n",
      "  CuPy may not function correctly because multiple CuPy packages are installed\n",
      "  in your environment:\n",
      "\n",
      "    cupy, cupy-cuda11x\n",
      "\n",
      "  Follow these steps to resolve this issue:\n",
      "\n",
      "    1. For all packages listed above, run the following command to remove all\n",
      "       existing CuPy installations:\n",
      "\n",
      "         $ pip uninstall <package_name>\n",
      "\n",
      "      If you previously installed CuPy via conda, also run the following:\n",
      "\n",
      "         $ conda uninstall cupy\n",
      "\n",
      "    2. Install the appropriate CuPy package.\n",
      "       Refer to the Installation Guide for detailed instructions.\n",
      "\n",
      "         https://docs.cupy.dev/en/stable/install.html\n",
      "\n",
      "--------------------------------------------------------------------------------\n",
      "\n",
      "  warnings.warn(f'''\n"
     ]
    }
   ],
   "source": [
    "import cellxgene_census\n",
    "import pandas as pd\n",
    "import numpy as np\n",
    "from scipy.stats import pearsonr"
   ]
  },
  {
   "cell_type": "markdown",
   "metadata": {},
   "source": [
    "### Function to Get Co-Expression Matrix\n",
    "\n",
    "The following code defines a function `get_coexpression_matrix` that performs the following steps:\n",
    "\n",
    "1. **Open and Query Data:**\n",
    "   - Uses `cellxgene_census.open_soma()` to access the gene expression data.\n",
    "   - Queries data for the organism 'Homo sapiens' and filters by a specific cell type (`cell_type`) using `obs_value_filter=f\"cell_type == '{cell_type}'\"`.\n",
    "\n",
    "2. **Ensure Correct Gene Names and Filter Genes:**\n",
    "   - Checks and sets gene names (`adata.var['feature_id']`).\n",
    "   - Filters out genes with zero expression values (`adata.X > 0`).\n",
    "\n",
    "3. **Convert Data to DataFrame:**\n",
    "   - Converts the filtered expression data into a Pandas DataFrame (`df_expression`).\n",
    "\n",
    "4. **Filter Samples Based on Gene of Interest Expression:**\n",
    "   - Filters out samples where the gene of interest has zero expression.\n",
    "   - Calculates and prints the percentage of samples with non-zero expression for the gene of interest.\n",
    "\n",
    "5. **Calculate Pearson Correlations:**\n",
    "   - Computes Pearson correlation coefficients between the gene of interest and other genes in `df_expression`.\n",
    "   - Sorts and returns the top 500 most positively and negatively correlated genes.\n",
    "\n",
    "The function is then run with an example gene (`ENSG00000140718`) and the specified tissue and cell type (`Adipose` and `adipocyte`). The top 10 most positively and negatively correlated genes are printed.\n",
    "\n",
    "#### Usage Instructions:\n",
    "\n",
    "- Call `get_coexpression_matrix(gene, tissue, cell_type, k=500)` with your desired gene, tissue type, and cell type.\n",
    "- The function will return two lists: the top 500 most positively and negatively correlated genes.\n",
    "- Modify `k` to adjust the number of top correlations returned.\n",
    "\n",
    "Example:\n",
    "```python\n",
    "top_positive, top_negative = get_coexpression_matrix('ENSG00000140718', 'Adipose', 'adipocyte', k=500)\n"
   ]
  },
  {
   "cell_type": "code",
   "execution_count": 48,
   "metadata": {},
   "outputs": [],
   "source": [
    "def get_coexpression_matrix(gene, tissue, cell_type, k=500):\n",
    "    with cellxgene_census.open_soma() as census:\n",
    "        # Query the data for a specific organism and cell types\n",
    "        adata = cellxgene_census.get_anndata(\n",
    "            census=census,\n",
    "            organism=\"Homo sapiens\",\n",
    "            obs_value_filter=f\"cell_type == '{cell_type}'\", # use obs_value_filter=f\"tissue_general == '{tissue}'\" if you want to filter with tissue type\n",
    "            column_names={\"obs\": [\"assay\", \"cell_type\", \"tissue\", \"tissue_general\", \"suspension_type\", \"disease\"]},\n",
    "        )\n",
    "\n",
    "        # Ensure the gene names are set correctly\n",
    "        if 'feature_id' in adata.var.columns:  # Adjust column name as needed\n",
    "            adata.var_names = adata.var['feature_id']\n",
    "        else:\n",
    "            print(\"Gene names column 'feature_id' not found in var DataFrame\")\n",
    "\n",
    "        # Filter out genes with zero expression values\n",
    "        gene_expression_sum = np.array((adata.X > 0).sum(axis=0)).flatten()\n",
    "        adata_filtered = adata[:, gene_expression_sum > 0]\n",
    "        genes = adata_filtered.var['feature_id']\n",
    "        # Convert the filtered expression data to a DataFrame\n",
    "        df_expression = pd.DataFrame(adata_filtered.X.toarray(), columns=genes)\n",
    "\n",
    "        # Check if the gene of interest is in the dataset\n",
    "        if gene in df_expression.columns:\n",
    "            # Filter out samples where the gene of interest is not expressed (expression value = 0)\n",
    "            non_zero_samples = df_expression[df_expression[gene] > 0]\n",
    "            \n",
    "            # Calculate percentage of samples with non-zero expression for the gene of interest\n",
    "            total_samples = df_expression.shape[0]\n",
    "            non_zero_sample_count = non_zero_samples.shape[0]\n",
    "            non_zero_percentage = (non_zero_sample_count / total_samples) * 100\n",
    "\n",
    "            print(f\"Total samples: {total_samples}\")\n",
    "            print(f\"Samples with non-zero expression for '{gene}': {non_zero_sample_count} ({non_zero_percentage:.2f}%)\")\n",
    "\n",
    "            # Calculate Pearson correlation coefficients and p-values\n",
    "            correlations = {}\n",
    "            for g in non_zero_samples.columns:\n",
    "                if g != gene:\n",
    "                    corr, p_value = pearsonr(non_zero_samples[gene], non_zero_samples[g])\n",
    "                    if p_value < 0.05:\n",
    "                        correlations[g] = corr\n",
    "                        \n",
    "            # Sort correlations\n",
    "            sorted_correlations = sorted(correlations.items(), key=lambda x: x[1], reverse=True)\n",
    "            top_positive = sorted_correlations[:k]\n",
    "            top_negative = sorted_correlations[-k:]\n",
    "\n",
    "            return top_positive, top_negative, genes\n",
    "        else:\n",
    "            print(f\"Gene of interest '{gene}' not found in the dataset.\")\n",
    "            return [], []"
   ]
  },
  {
   "cell_type": "markdown",
   "metadata": {},
   "source": [
    "### Selecting Tissue or Cell Type and Gene of Interest\n",
    "\n",
    "The below code cell sets variables to specify the tissue or cell type and a specific gene for analysis:\n"
   ]
  },
  {
   "cell_type": "code",
   "execution_count": 4,
   "metadata": {},
   "outputs": [],
   "source": [
    "gene_of_interest = 'ENSG00000140718'\n",
    "tissue_type = 'Adipose'\n",
    "cell_type = 'adipocyte'"
   ]
  },
  {
   "cell_type": "markdown",
   "metadata": {},
   "source": [
    "### Running the Co-Expression Matrix Function\n",
    "\n",
    "The following code calls the `get_coexpression_matrix` function to obtain the top 500 most positively and negatively correlated genes for a specified gene of interest, tissue type, and cell type.\n"
   ]
  },
  {
   "cell_type": "code",
   "execution_count": 49,
   "metadata": {},
   "outputs": [
    {
     "name": "stderr",
     "output_type": "stream",
     "text": [
      "The \"stable\" release is currently 2024-07-01. Specify 'census_version=\"2024-07-01\"' in future calls to open_soma() to ensure data consistency.\n"
     ]
    },
    {
     "name": "stdout",
     "output_type": "stream",
     "text": [
      "Total samples: 81378\n",
      "Samples with non-zero expression for 'ENSG00000140718': 53193 (65.37%)\n"
     ]
    },
    {
     "name": "stderr",
     "output_type": "stream",
     "text": [
      "/tmp/ipykernel_3334552/843689812.py:41: ConstantInputWarning: An input array is constant; the correlation coefficient is not defined.\n",
      "  corr, p_value = pearsonr(non_zero_samples[gene], non_zero_samples[g])\n"
     ]
    },
    {
     "data": {
      "text/plain": [
       "36959"
      ]
     },
     "execution_count": 49,
     "metadata": {},
     "output_type": "execute_result"
    }
   ],
   "source": [
    "top_positive, top_negative, all_genes = get_coexpression_matrix(gene_of_interest, tissue_type, cell_type, k=500)\n",
    "len(all_genes)"
   ]
  },
  {
   "cell_type": "markdown",
   "metadata": {},
   "source": [
    "### Printing Top Correlated Genes\n",
    "\n",
    "The following code prints the top 10 most positively correlated genes with the specified gene of interest. Each gene is listed along with its Pearson correlation coefficient."
   ]
  },
  {
   "cell_type": "code",
   "execution_count": 39,
   "metadata": {},
   "outputs": [
    {
     "name": "stdout",
     "output_type": "stream",
     "text": [
      "Top 10 most positively correlated genes:\n",
      "ENSG00000181722: correlation = 0.700\n",
      "ENSG00000230590: correlation = 0.682\n",
      "ENSG00000116117: correlation = 0.675\n",
      "ENSG00000090905: correlation = 0.675\n",
      "ENSG00000131558: correlation = 0.667\n",
      "ENSG00000144357: correlation = 0.664\n",
      "ENSG00000184903: correlation = 0.663\n",
      "ENSG00000152818: correlation = 0.658\n",
      "ENSG00000144036: correlation = 0.656\n",
      "ENSG00000164330: correlation = 0.654\n"
     ]
    }
   ],
   "source": [
    "print(\"Top 10 most positively correlated genes:\")\n",
    "for gene, corr in top_positive[:10]:\n",
    "    print(f\"{gene}: correlation = {corr:.3f}\")\n"
   ]
  },
  {
   "cell_type": "markdown",
   "metadata": {},
   "source": [
    "The following code prints the top 10 most negatively correlated genes with the specified gene of interest. Each gene is listed along with its Pearson correlation coefficient."
   ]
  },
  {
   "cell_type": "code",
   "execution_count": 40,
   "metadata": {},
   "outputs": [
    {
     "name": "stdout",
     "output_type": "stream",
     "text": [
      "\n",
      "Top 10 most negatively correlated genes:\n",
      "ENSG00000206474: correlation = 0.009\n",
      "ENSG00000255307: correlation = 0.009\n",
      "ENSG00000136918: correlation = 0.009\n",
      "ENSG00000173080: correlation = 0.009\n",
      "ENSG00000287076: correlation = 0.009\n",
      "ENSG00000233932: correlation = 0.009\n",
      "ENSG00000206262: correlation = 0.009\n",
      "ENSG00000272788: correlation = 0.009\n",
      "ENSG00000180697: correlation = 0.009\n",
      "ENSG00000231815: correlation = 0.009\n"
     ]
    }
   ],
   "source": [
    "print(\"\\nTop 10 most negatively correlated genes:\")\n",
    "for gene, corr in top_negative[:10]:\n",
    "    print(f\"{gene}: correlation = {corr:.3f}\")"
   ]
  },
  {
   "cell_type": "code",
   "execution_count": 43,
   "metadata": {},
   "outputs": [],
   "source": [
    "import pickle\n",
    "import os\n",
    "\n",
    "ensembl_to_hgnc_map = pickle.load(open(\"./data/ensembl_to_hgnc.pkl\", \"rb\"))"
   ]
  },
  {
   "cell_type": "code",
   "execution_count": 51,
   "metadata": {},
   "outputs": [],
   "source": [
    "top_positive_hgnc = [(ensembl_to_hgnc_map.get(gene, gene), corr) for gene, corr in top_positive]\n",
    "top_negative_hgnc = [(ensembl_to_hgnc_map.get(gene, gene), corr) for gene, corr in top_negative]\n",
    "all_genes_hgnc = [ensembl_to_hgnc_map.get(gene, gene) for gene in all_genes]"
   ]
  },
  {
   "cell_type": "code",
   "execution_count": 50,
   "metadata": {},
   "outputs": [
    {
     "data": {
      "text/plain": [
       "['TSPAN6',\n",
       " 'TNMD',\n",
       " 'DPM1',\n",
       " 'SCYL3',\n",
       " 'FIRRM',\n",
       " 'FGR',\n",
       " 'CFH',\n",
       " 'FUCA2',\n",
       " 'GCLC',\n",
       " 'NFYA']"
      ]
     },
     "execution_count": 50,
     "metadata": {},
     "output_type": "execute_result"
    }
   ],
   "source": [
    "all_genes_hgnc[:10]"
   ]
  },
  {
   "cell_type": "code",
   "execution_count": 52,
   "metadata": {},
   "outputs": [],
   "source": [
    "import gseapy as gp \n",
    "\n",
    "library = \"GO_Biological_Process_2023\"\n",
    "organism = \"Human\"\n",
    "\n",
    "res = gp.enrichr(gene_list=[gene[0] for gene in top_positive_hgnc],\n",
    "                                gene_sets=library,\n",
    "                                background=all_genes_hgnc,\n",
    "                                organism=organism,\n",
    "                                outdir=None).results\n",
    "res.drop(\"Gene_set\", axis=1, inplace=True)\n",
    "res.insert(1, \"ID\", res[\"Term\"].apply(\n",
    "    lambda x: x.split(\"(\")[1].split(\")\")[0]))\n",
    "res[\"Term\"] = res[\"Term\"].apply(lambda x: x.split(\"(\")[0])\n",
    "res = res[res[\"Adjusted P-value\"] < 0.05]"
   ]
  },
  {
   "cell_type": "code",
   "execution_count": 54,
   "metadata": {},
   "outputs": [
    {
     "data": {
      "text/html": [
       "<div>\n",
       "<style scoped>\n",
       "    .dataframe tbody tr th:only-of-type {\n",
       "        vertical-align: middle;\n",
       "    }\n",
       "\n",
       "    .dataframe tbody tr th {\n",
       "        vertical-align: top;\n",
       "    }\n",
       "\n",
       "    .dataframe thead th {\n",
       "        text-align: right;\n",
       "    }\n",
       "</style>\n",
       "<table border=\"1\" class=\"dataframe\">\n",
       "  <thead>\n",
       "    <tr style=\"text-align: right;\">\n",
       "      <th></th>\n",
       "      <th>Term</th>\n",
       "      <th>ID</th>\n",
       "      <th>P-value</th>\n",
       "      <th>Adjusted P-value</th>\n",
       "      <th>Old P-value</th>\n",
       "      <th>Old adjusted P-value</th>\n",
       "      <th>Odds Ratio</th>\n",
       "      <th>Combined Score</th>\n",
       "      <th>Genes</th>\n",
       "    </tr>\n",
       "  </thead>\n",
       "  <tbody>\n",
       "    <tr>\n",
       "      <th>131</th>\n",
       "      <td>Positive Regulation Of Adipose Tissue Developm...</td>\n",
       "      <td>GO:1904179</td>\n",
       "      <td>0.000083</td>\n",
       "      <td>0.001539</td>\n",
       "      <td>0</td>\n",
       "      <td>0</td>\n",
       "      <td>55.012575</td>\n",
       "      <td>517.118355</td>\n",
       "      <td>NCOA1;NCOA2;PPARG</td>\n",
       "    </tr>\n",
       "    <tr>\n",
       "      <th>188</th>\n",
       "      <td>Regulation Of Adipose Tissue Development</td>\n",
       "      <td>GO:1904177</td>\n",
       "      <td>0.000375</td>\n",
       "      <td>0.004885</td>\n",
       "      <td>0</td>\n",
       "      <td>0</td>\n",
       "      <td>27.503270</td>\n",
       "      <td>216.995159</td>\n",
       "      <td>NCOA1;NCOA2;PPARG</td>\n",
       "    </tr>\n",
       "  </tbody>\n",
       "</table>\n",
       "</div>"
      ],
      "text/plain": [
       "                                                  Term          ID   P-value  \\\n",
       "131  Positive Regulation Of Adipose Tissue Developm...  GO:1904179  0.000083   \n",
       "188          Regulation Of Adipose Tissue Development   GO:1904177  0.000375   \n",
       "\n",
       "     Adjusted P-value  Old P-value  Old adjusted P-value  Odds Ratio  \\\n",
       "131          0.001539            0                     0   55.012575   \n",
       "188          0.004885            0                     0   27.503270   \n",
       "\n",
       "     Combined Score              Genes  \n",
       "131      517.118355  NCOA1;NCOA2;PPARG  \n",
       "188      216.995159  NCOA1;NCOA2;PPARG  "
      ]
     },
     "execution_count": 54,
     "metadata": {},
     "output_type": "execute_result"
    }
   ],
   "source": [
    "# case insensitive search\n",
    "res[res[\"Term\"].str.contains(\"adipose\", case=False)]"
   ]
  },
  {
   "cell_type": "code",
   "execution_count": 33,
   "metadata": {},
   "outputs": [],
   "source": [
    "\n",
    "# Negative correlation\n",
    "res_neg = gp.enrichr(gene_list=[gene[0] for gene in top_negative_hgnc],\n",
    "                                gene_sets=library,\n",
    "                                background=all_genes_hgnc,\n",
    "                                organism=organism,\n",
    "                                outdir=None).results\n",
    "# res_neg.drop(\"Gene_set\", axis=1, inplace=True)\n",
    "# res_neg.insert(1, \"ID\", res_neg[\"Term\"].apply(\n",
    "#     lambda x: x.split(\"(\")[1].split(\")\")[0]))\n",
    "# res_neg[\"Term\"] = res_neg[\"Term\"].apply(lambda x: x.split(\"(\")[0])\n",
    "# res_neg = res_neg[res_neg[\"Adjusted P-value\"] < 0.05]"
   ]
  },
  {
   "cell_type": "code",
   "execution_count": 34,
   "metadata": {},
   "outputs": [
    {
     "data": {
      "text/html": [
       "<div>\n",
       "<style scoped>\n",
       "    .dataframe tbody tr th:only-of-type {\n",
       "        vertical-align: middle;\n",
       "    }\n",
       "\n",
       "    .dataframe tbody tr th {\n",
       "        vertical-align: top;\n",
       "    }\n",
       "\n",
       "    .dataframe thead th {\n",
       "        text-align: right;\n",
       "    }\n",
       "</style>\n",
       "<table border=\"1\" class=\"dataframe\">\n",
       "  <thead>\n",
       "    <tr style=\"text-align: right;\">\n",
       "      <th></th>\n",
       "      <th>Gene_set</th>\n",
       "      <th>Term</th>\n",
       "      <th>P-value</th>\n",
       "      <th>Adjusted P-value</th>\n",
       "      <th>Old P-value</th>\n",
       "      <th>Old adjusted P-value</th>\n",
       "      <th>Odds Ratio</th>\n",
       "      <th>Combined Score</th>\n",
       "      <th>Genes</th>\n",
       "    </tr>\n",
       "  </thead>\n",
       "  <tbody>\n",
       "    <tr>\n",
       "      <th>0</th>\n",
       "      <td>GO_Biological_Process_2023</td>\n",
       "      <td>Cell Junction Disassembly (GO:0150146)</td>\n",
       "      <td>0.000024</td>\n",
       "      <td>0.025517</td>\n",
       "      <td>0</td>\n",
       "      <td>0</td>\n",
       "      <td>110.031187</td>\n",
       "      <td>1169.910518</td>\n",
       "      <td>C1QB;DKK1;C1QC</td>\n",
       "    </tr>\n",
       "    <tr>\n",
       "      <th>1</th>\n",
       "      <td>GO_Biological_Process_2023</td>\n",
       "      <td>Skeletal Muscle Contraction (GO:0003009)</td>\n",
       "      <td>0.000109</td>\n",
       "      <td>0.034657</td>\n",
       "      <td>0</td>\n",
       "      <td>0</td>\n",
       "      <td>19.593548</td>\n",
       "      <td>178.744303</td>\n",
       "      <td>TNNC1;MYH8;TCAP;TNNI3</td>\n",
       "    </tr>\n",
       "    <tr>\n",
       "      <th>2</th>\n",
       "      <td>GO_Biological_Process_2023</td>\n",
       "      <td>Striated Muscle Contraction (GO:0006941)</td>\n",
       "      <td>0.000120</td>\n",
       "      <td>0.034657</td>\n",
       "      <td>0</td>\n",
       "      <td>0</td>\n",
       "      <td>8.670636</td>\n",
       "      <td>78.251506</td>\n",
       "      <td>SMPX;TNNC1;MYL2;MYH8;TCAP;TNNI3</td>\n",
       "    </tr>\n",
       "    <tr>\n",
       "      <th>3</th>\n",
       "      <td>GO_Biological_Process_2023</td>\n",
       "      <td>Synapse Pruning (GO:0098883)</td>\n",
       "      <td>0.000131</td>\n",
       "      <td>0.034657</td>\n",
       "      <td>0</td>\n",
       "      <td>0</td>\n",
       "      <td>44.008853</td>\n",
       "      <td>393.443800</td>\n",
       "      <td>C1QB;DKK1;C1QC</td>\n",
       "    </tr>\n",
       "    <tr>\n",
       "      <th>4</th>\n",
       "      <td>GO_Biological_Process_2023</td>\n",
       "      <td>Inflammatory Response (GO:0006954)</td>\n",
       "      <td>0.000354</td>\n",
       "      <td>0.074883</td>\n",
       "      <td>0</td>\n",
       "      <td>0</td>\n",
       "      <td>3.688551</td>\n",
       "      <td>29.311142</td>\n",
       "      <td>IL1A;CXCL6;VCAM1;HP;CCR5;CCL18;FCGR2B;FOLR2;AI...</td>\n",
       "    </tr>\n",
       "  </tbody>\n",
       "</table>\n",
       "</div>"
      ],
      "text/plain": [
       "                     Gene_set                                      Term  \\\n",
       "0  GO_Biological_Process_2023    Cell Junction Disassembly (GO:0150146)   \n",
       "1  GO_Biological_Process_2023  Skeletal Muscle Contraction (GO:0003009)   \n",
       "2  GO_Biological_Process_2023  Striated Muscle Contraction (GO:0006941)   \n",
       "3  GO_Biological_Process_2023              Synapse Pruning (GO:0098883)   \n",
       "4  GO_Biological_Process_2023        Inflammatory Response (GO:0006954)   \n",
       "\n",
       "    P-value  Adjusted P-value  Old P-value  Old adjusted P-value  Odds Ratio  \\\n",
       "0  0.000024          0.025517            0                     0  110.031187   \n",
       "1  0.000109          0.034657            0                     0   19.593548   \n",
       "2  0.000120          0.034657            0                     0    8.670636   \n",
       "3  0.000131          0.034657            0                     0   44.008853   \n",
       "4  0.000354          0.074883            0                     0    3.688551   \n",
       "\n",
       "   Combined Score                                              Genes  \n",
       "0     1169.910518                                     C1QB;DKK1;C1QC  \n",
       "1      178.744303                              TNNC1;MYH8;TCAP;TNNI3  \n",
       "2       78.251506                    SMPX;TNNC1;MYL2;MYH8;TCAP;TNNI3  \n",
       "3      393.443800                                     C1QB;DKK1;C1QC  \n",
       "4       29.311142  IL1A;CXCL6;VCAM1;HP;CCR5;CCL18;FCGR2B;FOLR2;AI...  "
      ]
     },
     "execution_count": 34,
     "metadata": {},
     "output_type": "execute_result"
    }
   ],
   "source": [
    "res_neg.head()"
   ]
  },
  {
   "cell_type": "code",
   "execution_count": null,
   "metadata": {},
   "outputs": [],
   "source": []
  }
 ],
 "metadata": {
  "kernelspec": {
   "display_name": "Python 3 (ipykernel)",
   "language": "python",
   "name": "python3"
  },
  "language_info": {
   "codemirror_mode": {
    "name": "ipython",
    "version": 3
   },
   "file_extension": ".py",
   "mimetype": "text/x-python",
   "name": "python",
   "nbconvert_exporter": "python",
   "pygments_lexer": "ipython3",
   "version": "3.10.13"
  }
 },
 "nbformat": 4,
 "nbformat_minor": 2
}
